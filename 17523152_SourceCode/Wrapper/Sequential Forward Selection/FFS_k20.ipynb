{
 "cells": [
  {
   "cell_type": "markdown",
   "metadata": {},
   "source": [
    "referensi https://www.analyticsvidhya.com/blog/2021/04/forward-feature-selection-and-its-implementation/"
   ]
  },
  {
   "cell_type": "code",
   "execution_count": 5,
   "metadata": {
    "scrolled": true
   },
   "outputs": [],
   "source": [
    "# #instal library mlxtend\n",
    "# %pip install mlxtend"
   ]
  },
  {
   "cell_type": "code",
   "execution_count": 6,
   "metadata": {},
   "outputs": [],
   "source": [
    "# Import Library\n",
    "import pandas as pd\n",
    "from mlxtend.feature_selection import SequentialFeatureSelector as sfs\n",
    "from sklearn.linear_model import LinearRegression\n",
    "from sklearn.ensemble import RandomForestRegressor\n",
    "from sklearn.model_selection import train_test_split, KFold, cross_validate\n",
    "from sklearn.metrics import mean_squared_error, mean_absolute_error, r2_score\n",
    "import time"
   ]
  },
  {
   "cell_type": "code",
   "execution_count": 7,
   "metadata": {},
   "outputs": [],
   "source": [
    "#import dataset\n",
    "df = pd.read_csv('/home/jupyter-17523142/Rama/Dataset/dataset_rama.csv')\n",
    "X = df.drop(['No', 'Mango Cultivars', 'Vit C (mg/100g)', 'TA (mg/100g)', 'SSC (oBrix)', 'label'], axis = 1)\n",
    "y_vitc = df.loc[:, 'Vit C (mg/100g)']\n",
    "\n",
    "# separate dataset into train and test\n",
    "x_train, x_test, y_train, y_test = train_test_split(\n",
    "    X, y_vitc, test_size = 0.3, random_state=0)"
   ]
  },
  {
   "cell_type": "markdown",
   "metadata": {},
   "source": [
    "## Seleksi Fitur Forward Selection dengan Linear Regression"
   ]
  },
  {
   "cell_type": "code",
   "execution_count": 8,
   "metadata": {},
   "outputs": [],
   "source": [
    "# calling the Linear Regression model\n",
    "lr_model =  LinearRegression()\n",
    "sfs = sfs(lr_model, k_features=20, forward=True, verbose=2, scoring='neg_root_mean_squared_error', n_jobs=-1)"
   ]
  },
  {
   "cell_type": "code",
   "execution_count": 5,
   "metadata": {
    "scrolled": true
   },
   "outputs": [
    {
     "name": "stderr",
     "output_type": "stream",
     "text": [
      "[Parallel(n_jobs=-1)]: Using backend LokyBackend with 80 concurrent workers.\n",
      "[Parallel(n_jobs=-1)]: Done   2 tasks      | elapsed:    5.1s\n",
      "[Parallel(n_jobs=-1)]: Done 205 tasks      | elapsed:    6.8s\n",
      "[Parallel(n_jobs=-1)]: Done 488 tasks      | elapsed:    7.4s\n",
      "[Parallel(n_jobs=-1)]: Done 853 tasks      | elapsed:    8.3s\n",
      "[Parallel(n_jobs=-1)]: Done 1298 tasks      | elapsed:    9.4s\n",
      "[Parallel(n_jobs=-1)]: Done 1557 out of 1557 | elapsed:    9.7s finished\n",
      "\n",
      "[2022-07-13 06:19:19] Features: 1/20 -- score: -13.787313513773904[Parallel(n_jobs=-1)]: Using backend LokyBackend with 80 concurrent workers.\n",
      "[Parallel(n_jobs=-1)]: Done   2 tasks      | elapsed:    0.3s\n",
      "[Parallel(n_jobs=-1)]: Done 250 tasks      | elapsed:    1.0s\n",
      "[Parallel(n_jobs=-1)]: Done 816 tasks      | elapsed:    1.9s\n",
      "[Parallel(n_jobs=-1)]: Done 1556 out of 1556 | elapsed:    2.7s finished\n",
      "\n",
      "[2022-07-13 06:19:22] Features: 2/20 -- score: -12.378759342766646[Parallel(n_jobs=-1)]: Using backend LokyBackend with 80 concurrent workers.\n",
      "[Parallel(n_jobs=-1)]: Done   2 tasks      | elapsed:    0.3s\n",
      "[Parallel(n_jobs=-1)]: Done 250 tasks      | elapsed:    1.2s\n",
      "[Parallel(n_jobs=-1)]: Done 816 tasks      | elapsed:    2.1s\n",
      "[Parallel(n_jobs=-1)]: Done 1555 out of 1555 | elapsed:    3.1s finished\n",
      "\n",
      "[2022-07-13 06:19:25] Features: 3/20 -- score: -12.02775078078409[Parallel(n_jobs=-1)]: Using backend LokyBackend with 80 concurrent workers.\n",
      "[Parallel(n_jobs=-1)]: Done   4 tasks      | elapsed:    0.3s\n",
      "[Parallel(n_jobs=-1)]: Done 254 tasks      | elapsed:    1.0s\n",
      "[Parallel(n_jobs=-1)]: Done 820 tasks      | elapsed:    1.8s\n",
      "[Parallel(n_jobs=-1)]: Done 1554 out of 1554 | elapsed:    2.8s finished\n",
      "\n",
      "[2022-07-13 06:19:28] Features: 4/20 -- score: -11.780227105731935[Parallel(n_jobs=-1)]: Using backend LokyBackend with 80 concurrent workers.\n",
      "[Parallel(n_jobs=-1)]: Done   2 tasks      | elapsed:    0.4s\n",
      "[Parallel(n_jobs=-1)]: Done 250 tasks      | elapsed:    1.0s\n",
      "[Parallel(n_jobs=-1)]: Done 816 tasks      | elapsed:    2.0s\n",
      "[Parallel(n_jobs=-1)]: Done 1394 out of 1553 | elapsed:    2.7s remaining:    0.3s\n",
      "[Parallel(n_jobs=-1)]: Done 1553 out of 1553 | elapsed:    2.7s finished\n",
      "\n",
      "[2022-07-13 06:19:31] Features: 5/20 -- score: -11.618202325658217[Parallel(n_jobs=-1)]: Using backend LokyBackend with 80 concurrent workers.\n",
      "[Parallel(n_jobs=-1)]: Done   3 tasks      | elapsed:    0.2s\n",
      "[Parallel(n_jobs=-1)]: Done 252 tasks      | elapsed:    1.1s\n",
      "[Parallel(n_jobs=-1)]: Done 818 tasks      | elapsed:    1.9s\n",
      "[Parallel(n_jobs=-1)]: Done 1393 out of 1552 | elapsed:    2.8s remaining:    0.3s\n",
      "[Parallel(n_jobs=-1)]: Done 1552 out of 1552 | elapsed:    2.9s finished\n",
      "\n",
      "[2022-07-13 06:19:33] Features: 6/20 -- score: -11.364862191982446[Parallel(n_jobs=-1)]: Using backend LokyBackend with 80 concurrent workers.\n",
      "[Parallel(n_jobs=-1)]: Done   3 tasks      | elapsed:    0.3s\n",
      "[Parallel(n_jobs=-1)]: Done 252 tasks      | elapsed:    1.2s\n",
      "[Parallel(n_jobs=-1)]: Done 818 tasks      | elapsed:    2.4s\n",
      "[Parallel(n_jobs=-1)]: Done 1392 out of 1551 | elapsed:    3.3s remaining:    0.4s\n",
      "[Parallel(n_jobs=-1)]: Done 1551 out of 1551 | elapsed:    3.3s finished\n",
      "\n",
      "[2022-07-13 06:19:37] Features: 7/20 -- score: -11.286383938498421[Parallel(n_jobs=-1)]: Using backend LokyBackend with 80 concurrent workers.\n",
      "[Parallel(n_jobs=-1)]: Done   2 tasks      | elapsed:    0.4s\n",
      "[Parallel(n_jobs=-1)]: Done 250 tasks      | elapsed:    1.2s\n",
      "[Parallel(n_jobs=-1)]: Done 816 tasks      | elapsed:    2.3s\n",
      "[Parallel(n_jobs=-1)]: Done 1550 out of 1550 | elapsed:    3.4s finished\n",
      "\n",
      "[2022-07-13 06:19:40] Features: 8/20 -- score: -11.189144017840864[Parallel(n_jobs=-1)]: Using backend LokyBackend with 80 concurrent workers.\n",
      "[Parallel(n_jobs=-1)]: Done   3 tasks      | elapsed:    0.3s\n",
      "[Parallel(n_jobs=-1)]: Done 252 tasks      | elapsed:    1.3s\n",
      "[Parallel(n_jobs=-1)]: Done 818 tasks      | elapsed:    2.5s\n",
      "[Parallel(n_jobs=-1)]: Done 1390 out of 1549 | elapsed:    3.5s remaining:    0.4s\n",
      "[Parallel(n_jobs=-1)]: Done 1549 out of 1549 | elapsed:    3.6s finished\n",
      "\n",
      "[2022-07-13 06:19:44] Features: 9/20 -- score: -10.996489084265619[Parallel(n_jobs=-1)]: Using backend LokyBackend with 80 concurrent workers.\n",
      "[Parallel(n_jobs=-1)]: Done   4 tasks      | elapsed:    0.4s\n",
      "[Parallel(n_jobs=-1)]: Done 254 tasks      | elapsed:    1.5s\n",
      "[Parallel(n_jobs=-1)]: Done 820 tasks      | elapsed:    2.8s\n",
      "[Parallel(n_jobs=-1)]: Done 1548 out of 1548 | elapsed:    4.0s finished\n",
      "\n",
      "[2022-07-13 06:19:48] Features: 10/20 -- score: -10.953473777705172[Parallel(n_jobs=-1)]: Using backend LokyBackend with 80 concurrent workers.\n",
      "[Parallel(n_jobs=-1)]: Done   3 tasks      | elapsed:    0.3s\n",
      "[Parallel(n_jobs=-1)]: Done 252 tasks      | elapsed:    1.4s\n",
      "[Parallel(n_jobs=-1)]: Done 818 tasks      | elapsed:    2.6s\n",
      "[Parallel(n_jobs=-1)]: Done 1388 out of 1547 | elapsed:    3.8s remaining:    0.4s\n",
      "[Parallel(n_jobs=-1)]: Done 1547 out of 1547 | elapsed:    3.8s finished\n",
      "\n",
      "[2022-07-13 06:19:52] Features: 11/20 -- score: -10.906252633020575[Parallel(n_jobs=-1)]: Using backend LokyBackend with 80 concurrent workers.\n",
      "[Parallel(n_jobs=-1)]: Done   3 tasks      | elapsed:    0.4s\n",
      "[Parallel(n_jobs=-1)]: Done 252 tasks      | elapsed:    1.5s\n",
      "[Parallel(n_jobs=-1)]: Done 818 tasks      | elapsed:    2.7s\n",
      "[Parallel(n_jobs=-1)]: Done 1546 out of 1546 | elapsed:    3.9s finished\n",
      "\n",
      "[2022-07-13 06:19:56] Features: 12/20 -- score: -10.825633764272926[Parallel(n_jobs=-1)]: Using backend LokyBackend with 80 concurrent workers.\n",
      "[Parallel(n_jobs=-1)]: Done   3 tasks      | elapsed:    0.5s\n",
      "[Parallel(n_jobs=-1)]: Done 252 tasks      | elapsed:    1.5s\n",
      "[Parallel(n_jobs=-1)]: Done 818 tasks      | elapsed:    2.8s\n",
      "[Parallel(n_jobs=-1)]: Done 1386 out of 1545 | elapsed:    3.9s remaining:    0.4s\n",
      "[Parallel(n_jobs=-1)]: Done 1545 out of 1545 | elapsed:    3.9s finished\n",
      "\n",
      "[2022-07-13 06:20:00] Features: 13/20 -- score: -10.755354980624812[Parallel(n_jobs=-1)]: Using backend LokyBackend with 80 concurrent workers.\n",
      "[Parallel(n_jobs=-1)]: Done   2 tasks      | elapsed:    0.5s\n",
      "[Parallel(n_jobs=-1)]: Done 250 tasks      | elapsed:    1.5s\n",
      "[Parallel(n_jobs=-1)]: Done 816 tasks      | elapsed:    2.9s\n",
      "[Parallel(n_jobs=-1)]: Done 1385 out of 1544 | elapsed:    4.2s remaining:    0.5s\n",
      "[Parallel(n_jobs=-1)]: Done 1544 out of 1544 | elapsed:    4.2s finished\n",
      "\n",
      "[2022-07-13 06:20:04] Features: 14/20 -- score: -10.74540045084598[Parallel(n_jobs=-1)]: Using backend LokyBackend with 80 concurrent workers.\n",
      "[Parallel(n_jobs=-1)]: Done   3 tasks      | elapsed:    0.3s\n",
      "[Parallel(n_jobs=-1)]: Done 252 tasks      | elapsed:    1.4s\n",
      "[Parallel(n_jobs=-1)]: Done 818 tasks      | elapsed:    2.8s\n",
      "[Parallel(n_jobs=-1)]: Done 1384 out of 1543 | elapsed:    4.0s remaining:    0.5s\n",
      "[Parallel(n_jobs=-1)]: Done 1543 out of 1543 | elapsed:    4.1s finished\n",
      "\n",
      "[2022-07-13 06:20:08] Features: 15/20 -- score: -10.703055098866894[Parallel(n_jobs=-1)]: Using backend LokyBackend with 80 concurrent workers.\n",
      "[Parallel(n_jobs=-1)]: Done   3 tasks      | elapsed:    0.4s\n",
      "[Parallel(n_jobs=-1)]: Done 252 tasks      | elapsed:    1.7s\n",
      "[Parallel(n_jobs=-1)]: Done 818 tasks      | elapsed:    3.3s\n",
      "[Parallel(n_jobs=-1)]: Done 1383 out of 1542 | elapsed:    4.5s remaining:    0.5s\n",
      "[Parallel(n_jobs=-1)]: Done 1542 out of 1542 | elapsed:    4.5s finished\n",
      "\n",
      "[2022-07-13 06:20:13] Features: 16/20 -- score: -10.687026194696717[Parallel(n_jobs=-1)]: Using backend LokyBackend with 80 concurrent workers.\n",
      "[Parallel(n_jobs=-1)]: Done   3 tasks      | elapsed:    0.3s\n",
      "[Parallel(n_jobs=-1)]: Done 252 tasks      | elapsed:    1.7s\n",
      "[Parallel(n_jobs=-1)]: Done 818 tasks      | elapsed:    3.0s\n",
      "[Parallel(n_jobs=-1)]: Done 1382 out of 1541 | elapsed:    4.2s remaining:    0.5s\n",
      "[Parallel(n_jobs=-1)]: Done 1541 out of 1541 | elapsed:    4.3s finished\n",
      "\n",
      "[2022-07-13 06:20:17] Features: 17/20 -- score: -10.62561546525142[Parallel(n_jobs=-1)]: Using backend LokyBackend with 80 concurrent workers.\n",
      "[Parallel(n_jobs=-1)]: Done   3 tasks      | elapsed:    0.4s\n",
      "[Parallel(n_jobs=-1)]: Done 252 tasks      | elapsed:    1.5s\n",
      "[Parallel(n_jobs=-1)]: Done 818 tasks      | elapsed:    3.0s\n",
      "[Parallel(n_jobs=-1)]: Done 1540 out of 1540 | elapsed:    4.2s finished\n",
      "\n",
      "[2022-07-13 06:20:22] Features: 18/20 -- score: -10.605310554724548[Parallel(n_jobs=-1)]: Using backend LokyBackend with 80 concurrent workers.\n",
      "[Parallel(n_jobs=-1)]: Done   3 tasks      | elapsed:    0.6s\n",
      "[Parallel(n_jobs=-1)]: Done 252 tasks      | elapsed:    1.6s\n",
      "[Parallel(n_jobs=-1)]: Done 818 tasks      | elapsed:    3.1s\n",
      "[Parallel(n_jobs=-1)]: Done 1380 out of 1539 | elapsed:    4.3s remaining:    0.5s\n",
      "[Parallel(n_jobs=-1)]: Done 1539 out of 1539 | elapsed:    4.4s finished\n",
      "\n",
      "[2022-07-13 06:20:26] Features: 19/20 -- score: -10.590518686880598[Parallel(n_jobs=-1)]: Using backend LokyBackend with 80 concurrent workers.\n",
      "[Parallel(n_jobs=-1)]: Done   3 tasks      | elapsed:    0.3s\n",
      "[Parallel(n_jobs=-1)]: Done 252 tasks      | elapsed:    1.6s\n",
      "[Parallel(n_jobs=-1)]: Done 818 tasks      | elapsed:    3.1s\n"
     ]
    },
    {
     "name": "stdout",
     "output_type": "stream",
     "text": [
      "CPU times: user 1min 14s, sys: 4.91 s, total: 1min 19s\n",
      "Wall time: 1min 21s\n"
     ]
    },
    {
     "name": "stderr",
     "output_type": "stream",
     "text": [
      "[Parallel(n_jobs=-1)]: Done 1538 out of 1538 | elapsed:    4.6s finished\n",
      "\n",
      "[2022-07-13 06:20:31] Features: 20/20 -- score: -10.325347366652931"
     ]
    }
   ],
   "source": [
    "%%time \n",
    "\n",
    "sfs = sfs.fit(x_train, y_train)"
   ]
  },
  {
   "cell_type": "code",
   "execution_count": 6,
   "metadata": {},
   "outputs": [
    {
     "name": "stdout",
     "output_type": "stream",
     "text": [
      "Fitur yang diambil adalah: \n",
      "['1043.4', '1045.9', '1047.1', '1051', '1052.2', '1052.7', '1054', '1070.5', '1085.3', '1085.7', '1087.1', '1087.6', '1089.8', '1094.4', '1096.3', '1422.2', '1427.7', '1446.8', '1654.6', '1732']\n"
     ]
    },
    {
     "data": {
      "text/plain": [
       "20"
      ]
     },
     "execution_count": 6,
     "metadata": {},
     "output_type": "execute_result"
    }
   ],
   "source": [
    "feat_names = list(sfs.k_feature_names_)\n",
    "print(\"Fitur yang diambil adalah: \")\n",
    "print(feat_names)\n",
    "len(feat_names)"
   ]
  },
  {
   "cell_type": "markdown",
   "metadata": {},
   "source": [
    "# Linear Regression"
   ]
  },
  {
   "cell_type": "code",
   "execution_count": 7,
   "metadata": {},
   "outputs": [],
   "source": [
    "#cross validation 10-fold\n",
    "cv = KFold(n_splits=10, random_state=1, shuffle=True)"
   ]
  },
  {
   "cell_type": "code",
   "execution_count": 8,
   "metadata": {},
   "outputs": [
    {
     "name": "stdout",
     "output_type": "stream",
     "text": [
      "==================================================\n",
      "MSE model Linear Regression data Train dengan 20 fitur: 84.69\n",
      "RMSE model Linear Regression data Train dengan 20 fitur:9.2\n",
      "MAE model Linear Regression data Train dengan 20 fitur:7.18\n",
      "R2 model Linear Regression data Train dengan 20 fitur:0.56\n",
      "----------------------------\n",
      "MSE model Linear Regression data Test dengan 20 fitur:164.64\n",
      "RMSE model Linear Regression data Test dengan 20 fitur:12.83\n",
      "MAE model Linear Regression data Test dengan 20 fitur:10.89\n",
      "R2 model Linear Regression data Test dengan 20 fitur:0.05\n",
      " \n",
      "==================================================\n",
      "CPU times: user 5.69 s, sys: 137 ms, total: 5.83 s\n",
      "Wall time: 255 ms\n"
     ]
    }
   ],
   "source": [
    "%%time\n",
    "\n",
    "#tentukan metode scoring yang digunakan\n",
    "metrics = {'rmse': 'neg_root_mean_squared_error',\n",
    "               'mse': 'neg_mean_squared_error',\n",
    "               'mae': 'neg_mean_absolute_error',\n",
    "               'r2': 'r2'} \n",
    "\n",
    "n_feat = [20]\n",
    "\n",
    "for nfeat in n_feat:\n",
    "        print(\"==================================================\")\n",
    "        \n",
    "        #ambil n fitur input hasil seleksi fitur SFS\n",
    "        x_train_selected = x_train[feat_names].iloc[:,0:nfeat]\n",
    "        x_test_selected = x_test[feat_names].iloc[:,0:nfeat]\n",
    "\n",
    "        #Create a Linear Regression\n",
    "        lr_model = LinearRegression()\n",
    "        \n",
    "        #Train the model using the training sets\n",
    "        lr_model.fit(x_train_selected, y_train)\n",
    "        y_pred_lr = lr_model.predict(x_test_selected)\n",
    "\n",
    "        #hitung score model dari data train\n",
    "        scores = cross_validate(lr_model, x_train_selected, y_train, scoring=metrics, cv=cv, return_train_score=True)\n",
    "\n",
    "        print(\"MSE model Linear Regression data Train dengan \" + str(nfeat) + \" fitur: \" \n",
    "              + str(abs(round(scores['train_mse'].mean(), 2))))\n",
    "        print(\"RMSE model Linear Regression data Train dengan \" + str(nfeat) + \" fitur:\"\n",
    "              + str(abs(round(scores['train_rmse'].mean(), 2))))\n",
    "        print(\"MAE model Linear Regression data Train dengan \" + str(nfeat) + \" fitur:\"\n",
    "              + str(abs(round(scores['train_mae'].mean(), 2))))\n",
    "        print(\"R2 model Linear Regression data Train dengan \" + str(nfeat) + \" fitur:\"\n",
    "              + str(abs((round(scores['train_r2'].mean(), 2)))))    \n",
    "        print(\"----------------------------\")        \n",
    "        print(\"MSE model Linear Regression data Test dengan \" + str(nfeat) + \" fitur:\" \n",
    "          + str(abs(round(mean_squared_error(y_test, y_pred_lr), 2))))\n",
    "        print(\"RMSE model Linear Regression data Test dengan \" + str(nfeat) + \" fitur:\" \n",
    "          + str(abs(round(mean_squared_error(y_test, y_pred_lr, squared = False), 2))))\n",
    "        print(\"MAE model Linear Regression data Test dengan \" + str(nfeat) + \" fitur:\" \n",
    "          + str(abs(round(mean_absolute_error(y_test, y_pred_lr), 2))))\n",
    "        print(\"R2 model Linear Regression data Test dengan \" + str(nfeat) + \" fitur:\" \n",
    "          + str(abs(round(r2_score(y_test, y_pred_lr), 2))))\n",
    "        print(\" \")\n",
    "        print(\"==================================================\")"
   ]
  },
  {
   "cell_type": "markdown",
   "metadata": {},
   "source": [
    "# Prediksi Random Forest Regression"
   ]
  },
  {
   "cell_type": "markdown",
   "metadata": {},
   "source": [
    "## 100 Trees"
   ]
  },
  {
   "cell_type": "code",
   "execution_count": 12,
   "metadata": {},
   "outputs": [
    {
     "name": "stdout",
     "output_type": "stream",
     "text": [
      "==================================================\n",
      "MSE model Linear Regression data Train dengan 20 fitur: 38.03\n",
      "RMSE model Linear Regression data Train dengan 20 fitur:6.16\n",
      "MAE model Linear Regression data Train dengan 20 fitur:4.7\n",
      "R2 model Linear Regression data Train dengan 20 fitur:0.8\n",
      "----------------------------\n",
      "MSE model Linear Regression data Test dengan 20 fitur:187.95\n",
      "RMSE model Linear Regression data Test dengan 20 fitur:13.71\n",
      "MAE model Linear Regression data Test dengan 20 fitur:10.91\n",
      "R2 model Linear Regression data Test dengan 20 fitur:0.09\n",
      " \n",
      "==================================================\n",
      "CPU times: user 1.84 s, sys: 9.81 ms, total: 1.85 s\n",
      "Wall time: 1.85 s\n"
     ]
    }
   ],
   "source": [
    "%%time\n",
    "\n",
    "#tentukan metode scoring yang digunakan\n",
    "metrics = {'rmse': 'neg_root_mean_squared_error',\n",
    "               'mse': 'neg_mean_squared_error',\n",
    "               'mae': 'neg_mean_absolute_error',\n",
    "               'r2': 'r2'} \n",
    "\n",
    "n_feat = [20]\n",
    "n_trees = [100]\n",
    "\n",
    "for nfeat in n_feat:\n",
    "    for ntrees in n_trees: \n",
    "        print(\"==================================================\")\n",
    "        \n",
    "        #ambil n fitur input hasil seleksi fitur SFS\n",
    "        x_train_selected = x_train[feat_names].iloc[:,0:nfeat]\n",
    "        x_test_selected = x_test[feat_names].iloc[:,0:nfeat]\n",
    "\n",
    "        #Create a Random Forest Regression\n",
    "        rfg_model = RandomForestRegressor(n_estimators=ntrees, random_state=100)\n",
    "        \n",
    "        #Train the model using the training sets\n",
    "        rfg_model.fit(x_train_selected, y_train)\n",
    "        y_pred_rfg = rfg_model.predict(x_test_selected)\n",
    "\n",
    "        #hitung score model dari data train\n",
    "        scores = cross_validate(rfg_model, x_train_selected, y_train, scoring=metrics, cv=cv, return_train_score=True)\n",
    "\n",
    "        print(\"MSE model Random Forest Regression data Train dengan \" + str(nfeat) + \" fitur: \" \n",
    "              + str(abs(round(scores['train_mse'].mean(), 2))))\n",
    "        print(\"RMSE model Random Forest Regression data Train dengan \" + str(nfeat) + \" fitur:\"\n",
    "              + str(abs(round(scores['train_rmse'].mean(), 2))))\n",
    "        print(\"MAE model Random Forest Regression data Train dengan \" + str(nfeat) + \" fitur:\"\n",
    "              + str(abs(round(scores['train_mae'].mean(), 2))))\n",
    "        print(\"R2 model Random Forest Regression data Train dengan \" + str(nfeat) + \" fitur:\"\n",
    "              + str(abs((round(scores['train_r2'].mean(), 2)))))    \n",
    "        print(\"----------------------------\")\n",
    "        print(\"MSE model Random Forest Regression data Test dengan \" + str(nfeat) + \" fitur:\" \n",
    "          + str(abs(round(mean_squared_error(y_test, y_pred_rfg), 2))))\n",
    "        print(\"RMSE model Random Forest Regression data Test dengan \" + str(nfeat) + \" fitur:\" \n",
    "          + str(abs(round(mean_squared_error(y_test, y_pred_rfg, squared = False), 2))))\n",
    "        print(\"MAE model Random Forest Regression data Test dengan \" + str(nfeat) + \" fitur:\" \n",
    "          + str(abs(round(mean_absolute_error(y_test, y_pred_rfg), 2))))\n",
    "        print(\"R2 model Random Forest Regression data Test dengan \" + str(nfeat) + \" fitur:\" \n",
    "          + str(abs(round(r2_score(y_test, y_pred_rfg), 2))))\n",
    "        print(\" \")\n",
    "        print(\"==================================================\")"
   ]
  },
  {
   "cell_type": "markdown",
   "metadata": {},
   "source": [
    "## 150 Trees"
   ]
  },
  {
   "cell_type": "code",
   "execution_count": 13,
   "metadata": {
    "scrolled": true
   },
   "outputs": [
    {
     "name": "stdout",
     "output_type": "stream",
     "text": [
      "==================================================\n",
      "MSE model Linear Regression data Train dengan 20 fitur: 37.91\n",
      "RMSE model Linear Regression data Train dengan 20 fitur:6.15\n",
      "MAE model Linear Regression data Train dengan 20 fitur:4.71\n",
      "R2 model Linear Regression data Train dengan 20 fitur:0.8\n",
      "----------------------------\n",
      "MSE model Linear Regression data Test dengan 20 fitur:185.37\n",
      "RMSE model Linear Regression data Test dengan 20 fitur:13.62\n",
      "MAE model Linear Regression data Test dengan 20 fitur:10.81\n",
      "R2 model Linear Regression data Test dengan 20 fitur:0.07\n",
      " \n",
      "==================================================\n",
      "CPU times: user 2.71 s, sys: 4.94 ms, total: 2.72 s\n",
      "Wall time: 2.71 s\n"
     ]
    }
   ],
   "source": [
    "%%time\n",
    "\n",
    "#tentukan metode scoring yang digunakan\n",
    "metrics = {'rmse': 'neg_root_mean_squared_error',\n",
    "               'mse': 'neg_mean_squared_error',\n",
    "               'mae': 'neg_mean_absolute_error',\n",
    "               'r2': 'r2'} \n",
    "\n",
    "n_feat = [20]\n",
    "n_trees = [150]\n",
    "\n",
    "for nfeat in n_feat:\n",
    "    for ntrees in n_trees: \n",
    "        print(\"==================================================\")\n",
    "        \n",
    "        #ambil n fitur input hasil seleksi fitur SFS\n",
    "        x_train_selected = x_train[feat_names].iloc[:,0:nfeat]\n",
    "        x_test_selected = x_test[feat_names].iloc[:,0:nfeat]\n",
    "\n",
    "        #Create a Random Forest Regression\n",
    "        rfg_model = RandomForestRegressor(n_estimators=ntrees, random_state=100)\n",
    "        \n",
    "        #Train the model using the training sets\n",
    "        rfg_model.fit(x_train_selected, y_train)\n",
    "        y_pred_rfg = rfg_model.predict(x_test_selected)\n",
    "\n",
    "        #hitung score model dari data train\n",
    "        scores = cross_validate(rfg_model, x_train_selected, y_train, scoring=metrics, cv=cv, return_train_score=True)\n",
    "\n",
    "        print(\"MSE model Random Forest Regression data Train dengan \" + str(nfeat) + \" fitur: \" \n",
    "              + str(abs(round(scores['train_mse'].mean(), 2))))\n",
    "        print(\"RMSE model Random Forest Regression data Train dengan \" + str(nfeat) + \" fitur:\"\n",
    "              + str(abs(round(scores['train_rmse'].mean(), 2))))\n",
    "        print(\"MAE model Random Forest Regression data Train dengan \" + str(nfeat) + \" fitur:\"\n",
    "              + str(abs(round(scores['train_mae'].mean(), 2))))\n",
    "        print(\"R2 model Random Forest Regression data Train dengan \" + str(nfeat) + \" fitur:\"\n",
    "              + str(abs((round(scores['train_r2'].mean(), 2)))))    \n",
    "        print(\"----------------------------\")\n",
    "        print(\"MSE model Random Forest Regression data Test dengan \" + str(nfeat) + \" fitur:\" \n",
    "          + str(abs(round(mean_squared_error(y_test, y_pred_rfg), 2))))\n",
    "        print(\"RMSE model Random Forest Regression data Test dengan \" + str(nfeat) + \" fitur:\" \n",
    "          + str(abs(round(mean_squared_error(y_test, y_pred_rfg, squared = False), 2))))\n",
    "        print(\"MAE model Random Forest Regression data Test dengan \" + str(nfeat) + \" fitur:\" \n",
    "          + str(abs(round(mean_absolute_error(y_test, y_pred_rfg), 2))))\n",
    "        print(\"R2 model Random Forest Regression data Test dengan \" + str(nfeat) + \" fitur:\" \n",
    "          + str(abs(round(r2_score(y_test, y_pred_rfg), 2))))\n",
    "        print(\" \")\n",
    "        print(\"==================================================\")"
   ]
  },
  {
   "cell_type": "markdown",
   "metadata": {},
   "source": [
    "## 200 Trees"
   ]
  },
  {
   "cell_type": "code",
   "execution_count": 14,
   "metadata": {},
   "outputs": [
    {
     "name": "stdout",
     "output_type": "stream",
     "text": [
      "==================================================\n",
      "MSE model Linear Regression data Train dengan 20 fitur: 37.79\n",
      "RMSE model Linear Regression data Train dengan 20 fitur:6.14\n",
      "MAE model Linear Regression data Train dengan 20 fitur:4.7\n",
      "R2 model Linear Regression data Train dengan 20 fitur:0.8\n",
      "----------------------------\n",
      "MSE model Linear Regression data Test dengan 20 fitur:184.91\n",
      "RMSE model Linear Regression data Test dengan 20 fitur:13.6\n",
      "MAE model Linear Regression data Test dengan 20 fitur:10.83\n",
      "R2 model Linear Regression data Test dengan 20 fitur:0.07\n",
      " \n",
      "==================================================\n",
      "CPU times: user 3.57 s, sys: 44.1 ms, total: 3.61 s\n",
      "Wall time: 3.61 s\n"
     ]
    }
   ],
   "source": [
    "%%time\n",
    "\n",
    "#tentukan metode scoring yang digunakan\n",
    "metrics = {'rmse': 'neg_root_mean_squared_error',\n",
    "               'mse': 'neg_mean_squared_error',\n",
    "               'mae': 'neg_mean_absolute_error',\n",
    "               'r2': 'r2'} \n",
    "\n",
    "n_feat = [20]\n",
    "n_trees = [200]\n",
    "\n",
    "for nfeat in n_feat:\n",
    "    for ntrees in n_trees: \n",
    "        print(\"==================================================\")\n",
    "        \n",
    "        #ambil n fitur input hasil seleksi fitur SFS\n",
    "        x_train_selected = x_train[feat_names].iloc[:,0:nfeat]\n",
    "        x_test_selected = x_test[feat_names].iloc[:,0:nfeat]\n",
    "\n",
    "        #Create a Random Forest Regression\n",
    "        rfg_model = RandomForestRegressor(n_estimators=ntrees, random_state=100)\n",
    "        \n",
    "        #Train the model using the training sets\n",
    "        rfg_model.fit(x_train_selected, y_train)\n",
    "        y_pred_rfg = rfg_model.predict(x_test_selected)\n",
    "\n",
    "        #hitung score model dari data train\n",
    "        scores = cross_validate(rfg_model, x_train_selected, y_train, scoring=metrics, cv=cv, return_train_score=True)\n",
    "\n",
    "        print(\"MSE model Random Forest Regression data Train dengan \" + str(nfeat) + \" fitur: \" \n",
    "              + str(abs(round(scores['train_mse'].mean(), 2))))\n",
    "        print(\"RMSE model Random Forest Regression data Train dengan \" + str(nfeat) + \" fitur:\"\n",
    "              + str(abs(round(scores['train_rmse'].mean(), 2))))\n",
    "        print(\"MAE model Random Forest Regression data Train dengan \" + str(nfeat) + \" fitur:\"\n",
    "              + str(abs(round(scores['train_mae'].mean(), 2))))\n",
    "        print(\"R2 model Random Forest Regression data Train dengan \" + str(nfeat) + \" fitur:\"\n",
    "              + str(abs((round(scores['train_r2'].mean(), 2)))))    \n",
    "        print(\"----------------------------\")\n",
    "        print(\"MSE model Random Forest Regression data Test dengan \" + str(nfeat) + \" fitur:\" \n",
    "          + str(abs(round(mean_squared_error(y_test, y_pred_rfg), 2))))\n",
    "        print(\"RMSE model Random Forest Regression data Test dengan \" + str(nfeat) + \" fitur:\" \n",
    "          + str(abs(round(mean_squared_error(y_test, y_pred_rfg, squared = False), 2))))\n",
    "        print(\"MAE model Random Forest Regression data Test dengan \" + str(nfeat) + \" fitur:\" \n",
    "          + str(abs(round(mean_absolute_error(y_test, y_pred_rfg), 2))))\n",
    "        print(\"R2 model Linear Regression data Test dengan \" + str(nfeat) + \" fitur:\" \n",
    "          + str(abs(round(r2_score(y_test, y_pred_rfg), 2))))\n",
    "        print(\" \")\n",
    "        print(\"==================================================\")"
   ]
  }
 ],
 "metadata": {
  "kernelspec": {
   "display_name": "Python 3",
   "language": "python",
   "name": "python3"
  },
  "language_info": {
   "codemirror_mode": {
    "name": "ipython",
    "version": 3
   },
   "file_extension": ".py",
   "mimetype": "text/x-python",
   "name": "python",
   "nbconvert_exporter": "python",
   "pygments_lexer": "ipython3",
   "version": "3.7.3"
  }
 },
 "nbformat": 4,
 "nbformat_minor": 4
}
