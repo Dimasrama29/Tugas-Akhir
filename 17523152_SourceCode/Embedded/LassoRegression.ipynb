{
 "cells": [
  {
   "cell_type": "markdown",
   "metadata": {},
   "source": [
    "Sumber: https://towardsdatascience.com/feature-selection-in-machine-learning-using-lasso-regression-7809c7c2771a"
   ]
  },
  {
   "cell_type": "markdown",
   "metadata": {},
   "source": [
    "kenapa harus di scaling? karena kalo ga di scaling dia modelnya gak nemukan fitur dengan nilai importance yang lebih dari 0"
   ]
  },
  {
   "cell_type": "code",
   "execution_count": 1,
   "metadata": {},
   "outputs": [],
   "source": [
    "# Import library\n",
    "import numpy as np\n",
    "import pandas as pd\n",
    "from sklearn.model_selection import train_test_split, GridSearchCV, KFold, cross_validate\n",
    "from sklearn.preprocessing import StandardScaler\n",
    "from sklearn.pipeline import Pipeline\n",
    "from sklearn.linear_model import Lasso\n",
    "from sklearn.metrics import mean_squared_error, mean_absolute_error, r2_score\n",
    "from sklearn.linear_model import LinearRegression\n",
    "from sklearn.ensemble import RandomForestRegressor"
   ]
  },
  {
   "cell_type": "code",
   "execution_count": 2,
   "metadata": {
    "scrolled": true
   },
   "outputs": [],
   "source": [
    "#import dataset\n",
    "df = pd.read_csv('/home/jupyter-17523142/Rama/Dataset/dataset_rama.csv')\n",
    "X = df.drop(['No', 'Mango Cultivars', 'Vit C (mg/100g)', 'TA (mg/100g)', 'SSC (oBrix)', 'label'], axis = 1)\n",
    "y_vitc = df.loc[:, 'Vit C (mg/100g)']\n",
    "\n",
    "# separate dataset into train and test\n",
    "x_train, x_test, y_train, y_test = train_test_split(\n",
    "    X, y_vitc, test_size = 0.3, random_state=0)\n",
    "\n",
    "#buat list nama fitur\n",
    "features = X.columns.tolist()"
   ]
  },
  {
   "cell_type": "markdown",
   "metadata": {},
   "source": [
    "# Seleksi Fitur LASSO"
   ]
  },
  {
   "cell_type": "code",
   "execution_count": 3,
   "metadata": {},
   "outputs": [
    {
     "name": "stdout",
     "output_type": "stream",
     "text": [
      "CPU times: user 63 µs, sys: 54 µs, total: 117 µs\n",
      "Wall time: 122 µs\n"
     ]
    }
   ],
   "source": [
    "%%time\n",
    "\n",
    "pipeline = Pipeline([\n",
    "                     ('scaler',StandardScaler()),\n",
    "                     ('model',Lasso())\n",
    "])"
   ]
  },
  {
   "cell_type": "markdown",
   "metadata": {},
   "source": [
    "Now we have to optimize the α hyperparameter of Lasso regression. \n",
    "\n",
    "For this example, we are going to test several values from 0.1 to 10 with 0.1 step. \n",
    "\n",
    "For each value, we calculate the average value of the mean squared error in a 5-folds cross-validation and select the value of α that minimizes such average performance metrics. We can use the GridSearchCV object for this purpose."
   ]
  },
  {
   "cell_type": "code",
   "execution_count": 4,
   "metadata": {},
   "outputs": [
    {
     "name": "stdout",
     "output_type": "stream",
     "text": [
      "CPU times: user 28 µs, sys: 23 µs, total: 51 µs\n",
      "Wall time: 45.3 µs\n"
     ]
    }
   ],
   "source": [
    "%%time\n",
    "\n",
    "#define model Lasso Regression yang akan dilatih\n",
    "search = GridSearchCV(pipeline,\n",
    "                      {'model__alpha':np.arange(0.1,10,0.1)},\n",
    "                      cv = 5, scoring=\"neg_mean_squared_error\",verbose=3\n",
    "                      )"
   ]
  },
  {
   "cell_type": "code",
   "execution_count": 5,
   "metadata": {
    "scrolled": true
   },
   "outputs": [
    {
     "name": "stdout",
     "output_type": "stream",
     "text": [
      "Fitting 5 folds for each of 99 candidates, totalling 495 fits\n"
     ]
    },
    {
     "name": "stderr",
     "output_type": "stream",
     "text": [
      "/home/jupyter-17523142/.local/lib/python3.7/site-packages/sklearn/linear_model/_coordinate_descent.py:648: ConvergenceWarning: Objective did not converge. You might want to increase the number of iterations, check the scale of the features or consider increasing regularisation. Duality gap: 3.631e+01, tolerance: 1.890e+00\n",
      "  coef_, l1_reg, l2_reg, X, y, max_iter, tol, rng, random, positive\n"
     ]
    },
    {
     "name": "stdout",
     "output_type": "stream",
     "text": [
      "[CV 1/5] END ...............model__alpha=0.1;, score=-200.973 total time=   0.4s\n"
     ]
    },
    {
     "name": "stderr",
     "output_type": "stream",
     "text": [
      "/home/jupyter-17523142/.local/lib/python3.7/site-packages/sklearn/linear_model/_coordinate_descent.py:648: ConvergenceWarning: Objective did not converge. You might want to increase the number of iterations, check the scale of the features or consider increasing regularisation. Duality gap: 4.400e+01, tolerance: 1.966e+00\n",
      "  coef_, l1_reg, l2_reg, X, y, max_iter, tol, rng, random, positive\n"
     ]
    },
    {
     "name": "stdout",
     "output_type": "stream",
     "text": [
      "[CV 2/5] END ...............model__alpha=0.1;, score=-186.406 total time=   0.3s\n"
     ]
    },
    {
     "name": "stderr",
     "output_type": "stream",
     "text": [
      "/home/jupyter-17523142/.local/lib/python3.7/site-packages/sklearn/linear_model/_coordinate_descent.py:648: ConvergenceWarning: Objective did not converge. You might want to increase the number of iterations, check the scale of the features or consider increasing regularisation. Duality gap: 5.210e+01, tolerance: 2.003e+00\n",
      "  coef_, l1_reg, l2_reg, X, y, max_iter, tol, rng, random, positive\n"
     ]
    },
    {
     "name": "stdout",
     "output_type": "stream",
     "text": [
      "[CV 3/5] END ...............model__alpha=0.1;, score=-138.905 total time=   0.3s\n"
     ]
    },
    {
     "name": "stderr",
     "output_type": "stream",
     "text": [
      "/home/jupyter-17523142/.local/lib/python3.7/site-packages/sklearn/linear_model/_coordinate_descent.py:648: ConvergenceWarning: Objective did not converge. You might want to increase the number of iterations, check the scale of the features or consider increasing regularisation. Duality gap: 5.736e+01, tolerance: 2.072e+00\n",
      "  coef_, l1_reg, l2_reg, X, y, max_iter, tol, rng, random, positive\n"
     ]
    },
    {
     "name": "stdout",
     "output_type": "stream",
     "text": [
      "[CV 4/5] END ...............model__alpha=0.1;, score=-151.263 total time=   0.3s\n"
     ]
    },
    {
     "name": "stderr",
     "output_type": "stream",
     "text": [
      "/home/jupyter-17523142/.local/lib/python3.7/site-packages/sklearn/linear_model/_coordinate_descent.py:648: ConvergenceWarning: Objective did not converge. You might want to increase the number of iterations, check the scale of the features or consider increasing regularisation. Duality gap: 3.409e+01, tolerance: 2.037e+00\n",
      "  coef_, l1_reg, l2_reg, X, y, max_iter, tol, rng, random, positive\n"
     ]
    },
    {
     "name": "stdout",
     "output_type": "stream",
     "text": [
      "[CV 5/5] END ...............model__alpha=0.1;, score=-160.480 total time=   0.3s\n"
     ]
    },
    {
     "name": "stderr",
     "output_type": "stream",
     "text": [
      "/home/jupyter-17523142/.local/lib/python3.7/site-packages/sklearn/linear_model/_coordinate_descent.py:648: ConvergenceWarning: Objective did not converge. You might want to increase the number of iterations, check the scale of the features or consider increasing regularisation. Duality gap: 8.947e+00, tolerance: 1.890e+00\n",
      "  coef_, l1_reg, l2_reg, X, y, max_iter, tol, rng, random, positive\n"
     ]
    },
    {
     "name": "stdout",
     "output_type": "stream",
     "text": [
      "[CV 1/5] END ...............model__alpha=0.2;, score=-210.076 total time=   0.3s\n"
     ]
    },
    {
     "name": "stderr",
     "output_type": "stream",
     "text": [
      "/home/jupyter-17523142/.local/lib/python3.7/site-packages/sklearn/linear_model/_coordinate_descent.py:648: ConvergenceWarning: Objective did not converge. You might want to increase the number of iterations, check the scale of the features or consider increasing regularisation. Duality gap: 8.892e+00, tolerance: 1.966e+00\n",
      "  coef_, l1_reg, l2_reg, X, y, max_iter, tol, rng, random, positive\n"
     ]
    },
    {
     "name": "stdout",
     "output_type": "stream",
     "text": [
      "[CV 2/5] END ...............model__alpha=0.2;, score=-195.324 total time=   0.3s\n"
     ]
    },
    {
     "name": "stderr",
     "output_type": "stream",
     "text": [
      "/home/jupyter-17523142/.local/lib/python3.7/site-packages/sklearn/linear_model/_coordinate_descent.py:648: ConvergenceWarning: Objective did not converge. You might want to increase the number of iterations, check the scale of the features or consider increasing regularisation. Duality gap: 1.329e+01, tolerance: 2.003e+00\n",
      "  coef_, l1_reg, l2_reg, X, y, max_iter, tol, rng, random, positive\n"
     ]
    },
    {
     "name": "stdout",
     "output_type": "stream",
     "text": [
      "[CV 3/5] END ...............model__alpha=0.2;, score=-142.647 total time=   0.3s\n"
     ]
    },
    {
     "name": "stderr",
     "output_type": "stream",
     "text": [
      "/home/jupyter-17523142/.local/lib/python3.7/site-packages/sklearn/linear_model/_coordinate_descent.py:648: ConvergenceWarning: Objective did not converge. You might want to increase the number of iterations, check the scale of the features or consider increasing regularisation. Duality gap: 1.913e+01, tolerance: 2.072e+00\n",
      "  coef_, l1_reg, l2_reg, X, y, max_iter, tol, rng, random, positive\n"
     ]
    },
    {
     "name": "stdout",
     "output_type": "stream",
     "text": [
      "[CV 4/5] END ...............model__alpha=0.2;, score=-148.347 total time=   0.3s\n"
     ]
    },
    {
     "name": "stderr",
     "output_type": "stream",
     "text": [
      "/home/jupyter-17523142/.local/lib/python3.7/site-packages/sklearn/linear_model/_coordinate_descent.py:648: ConvergenceWarning: Objective did not converge. You might want to increase the number of iterations, check the scale of the features or consider increasing regularisation. Duality gap: 1.261e+01, tolerance: 2.037e+00\n",
      "  coef_, l1_reg, l2_reg, X, y, max_iter, tol, rng, random, positive\n"
     ]
    },
    {
     "name": "stdout",
     "output_type": "stream",
     "text": [
      "[CV 5/5] END ...............model__alpha=0.2;, score=-159.728 total time=   0.3s\n"
     ]
    },
    {
     "name": "stderr",
     "output_type": "stream",
     "text": [
      "/home/jupyter-17523142/.local/lib/python3.7/site-packages/sklearn/linear_model/_coordinate_descent.py:648: ConvergenceWarning: Objective did not converge. You might want to increase the number of iterations, check the scale of the features or consider increasing regularisation. Duality gap: 3.434e+00, tolerance: 1.890e+00\n",
      "  coef_, l1_reg, l2_reg, X, y, max_iter, tol, rng, random, positive\n"
     ]
    },
    {
     "name": "stdout",
     "output_type": "stream",
     "text": [
      "[CV 1/5] END model__alpha=0.30000000000000004;, score=-216.397 total time=   0.3s\n"
     ]
    },
    {
     "name": "stderr",
     "output_type": "stream",
     "text": [
      "/home/jupyter-17523142/.local/lib/python3.7/site-packages/sklearn/linear_model/_coordinate_descent.py:648: ConvergenceWarning: Objective did not converge. You might want to increase the number of iterations, check the scale of the features or consider increasing regularisation. Duality gap: 3.683e+00, tolerance: 1.966e+00\n",
      "  coef_, l1_reg, l2_reg, X, y, max_iter, tol, rng, random, positive\n"
     ]
    },
    {
     "name": "stdout",
     "output_type": "stream",
     "text": [
      "[CV 2/5] END model__alpha=0.30000000000000004;, score=-199.760 total time=   0.3s\n"
     ]
    },
    {
     "name": "stderr",
     "output_type": "stream",
     "text": [
      "/home/jupyter-17523142/.local/lib/python3.7/site-packages/sklearn/linear_model/_coordinate_descent.py:648: ConvergenceWarning: Objective did not converge. You might want to increase the number of iterations, check the scale of the features or consider increasing regularisation. Duality gap: 3.949e+00, tolerance: 2.003e+00\n",
      "  coef_, l1_reg, l2_reg, X, y, max_iter, tol, rng, random, positive\n"
     ]
    },
    {
     "name": "stdout",
     "output_type": "stream",
     "text": [
      "[CV 3/5] END model__alpha=0.30000000000000004;, score=-149.478 total time=   0.3s\n"
     ]
    },
    {
     "name": "stderr",
     "output_type": "stream",
     "text": [
      "/home/jupyter-17523142/.local/lib/python3.7/site-packages/sklearn/linear_model/_coordinate_descent.py:648: ConvergenceWarning: Objective did not converge. You might want to increase the number of iterations, check the scale of the features or consider increasing regularisation. Duality gap: 7.988e+00, tolerance: 2.072e+00\n",
      "  coef_, l1_reg, l2_reg, X, y, max_iter, tol, rng, random, positive\n"
     ]
    },
    {
     "name": "stdout",
     "output_type": "stream",
     "text": [
      "[CV 4/5] END model__alpha=0.30000000000000004;, score=-148.183 total time=   0.3s\n"
     ]
    },
    {
     "name": "stderr",
     "output_type": "stream",
     "text": [
      "/home/jupyter-17523142/.local/lib/python3.7/site-packages/sklearn/linear_model/_coordinate_descent.py:648: ConvergenceWarning: Objective did not converge. You might want to increase the number of iterations, check the scale of the features or consider increasing regularisation. Duality gap: 8.356e+00, tolerance: 2.037e+00\n",
      "  coef_, l1_reg, l2_reg, X, y, max_iter, tol, rng, random, positive\n"
     ]
    },
    {
     "name": "stdout",
     "output_type": "stream",
     "text": [
      "[CV 5/5] END model__alpha=0.30000000000000004;, score=-159.827 total time=   0.3s\n",
      "[CV 1/5] END ...............model__alpha=0.4;, score=-221.199 total time=   0.3s\n"
     ]
    },
    {
     "name": "stderr",
     "output_type": "stream",
     "text": [
      "/home/jupyter-17523142/.local/lib/python3.7/site-packages/sklearn/linear_model/_coordinate_descent.py:648: ConvergenceWarning: Objective did not converge. You might want to increase the number of iterations, check the scale of the features or consider increasing regularisation. Duality gap: 2.497e+00, tolerance: 1.966e+00\n",
      "  coef_, l1_reg, l2_reg, X, y, max_iter, tol, rng, random, positive\n"
     ]
    },
    {
     "name": "stdout",
     "output_type": "stream",
     "text": [
      "[CV 2/5] END ...............model__alpha=0.4;, score=-200.990 total time=   0.3s\n",
      "[CV 3/5] END ...............model__alpha=0.4;, score=-158.558 total time=   0.3s\n"
     ]
    },
    {
     "name": "stderr",
     "output_type": "stream",
     "text": [
      "/home/jupyter-17523142/.local/lib/python3.7/site-packages/sklearn/linear_model/_coordinate_descent.py:648: ConvergenceWarning: Objective did not converge. You might want to increase the number of iterations, check the scale of the features or consider increasing regularisation. Duality gap: 3.206e+00, tolerance: 2.072e+00\n",
      "  coef_, l1_reg, l2_reg, X, y, max_iter, tol, rng, random, positive\n"
     ]
    },
    {
     "name": "stdout",
     "output_type": "stream",
     "text": [
      "[CV 4/5] END ...............model__alpha=0.4;, score=-149.854 total time=   0.3s\n"
     ]
    },
    {
     "name": "stderr",
     "output_type": "stream",
     "text": [
      "/home/jupyter-17523142/.local/lib/python3.7/site-packages/sklearn/linear_model/_coordinate_descent.py:648: ConvergenceWarning: Objective did not converge. You might want to increase the number of iterations, check the scale of the features or consider increasing regularisation. Duality gap: 3.663e+00, tolerance: 2.037e+00\n",
      "  coef_, l1_reg, l2_reg, X, y, max_iter, tol, rng, random, positive\n"
     ]
    },
    {
     "name": "stdout",
     "output_type": "stream",
     "text": [
      "[CV 5/5] END ...............model__alpha=0.4;, score=-162.533 total time=   0.3s\n",
      "[CV 1/5] END ...............model__alpha=0.5;, score=-227.234 total time=   0.3s\n",
      "[CV 2/5] END ...............model__alpha=0.5;, score=-202.690 total time=   0.3s\n",
      "[CV 3/5] END ...............model__alpha=0.5;, score=-168.722 total time=   0.3s\n",
      "[CV 4/5] END ...............model__alpha=0.5;, score=-152.860 total time=   0.3s\n",
      "[CV 5/5] END ...............model__alpha=0.5;, score=-168.149 total time=   0.3s\n",
      "[CV 1/5] END ...............model__alpha=0.6;, score=-228.422 total time=   0.3s\n",
      "[CV 2/5] END ...............model__alpha=0.6;, score=-204.028 total time=   0.3s\n",
      "[CV 3/5] END ...............model__alpha=0.6;, score=-173.451 total time=   0.3s\n",
      "[CV 4/5] END ...............model__alpha=0.6;, score=-156.034 total time=   0.2s\n",
      "[CV 5/5] END ...............model__alpha=0.6;, score=-177.004 total time=   0.3s\n",
      "[CV 1/5] END model__alpha=0.7000000000000001;, score=-228.460 total time=   0.3s\n",
      "[CV 2/5] END model__alpha=0.7000000000000001;, score=-204.057 total time=   0.3s\n",
      "[CV 3/5] END model__alpha=0.7000000000000001;, score=-176.366 total time=   0.2s\n",
      "[CV 4/5] END model__alpha=0.7000000000000001;, score=-156.153 total time=   0.3s\n",
      "[CV 5/5] END model__alpha=0.7000000000000001;, score=-180.337 total time=   0.3s\n",
      "[CV 1/5] END ...............model__alpha=0.8;, score=-228.827 total time=   0.3s\n",
      "[CV 2/5] END ...............model__alpha=0.8;, score=-203.193 total time=   0.3s\n",
      "[CV 3/5] END ...............model__alpha=0.8;, score=-179.197 total time=   0.1s\n",
      "[CV 4/5] END ...............model__alpha=0.8;, score=-156.651 total time=   0.3s\n",
      "[CV 5/5] END ...............model__alpha=0.8;, score=-179.159 total time=   0.3s\n",
      "[CV 1/5] END ...............model__alpha=0.9;, score=-229.325 total time=   0.2s\n",
      "[CV 2/5] END ...............model__alpha=0.9;, score=-203.127 total time=   0.3s\n",
      "[CV 3/5] END ...............model__alpha=0.9;, score=-182.126 total time=   0.3s\n",
      "[CV 4/5] END ...............model__alpha=0.9;, score=-157.151 total time=   0.3s\n",
      "[CV 5/5] END ...............model__alpha=0.9;, score=-178.096 total time=   0.2s\n",
      "[CV 1/5] END ...............model__alpha=1.0;, score=-229.607 total time=   0.3s\n",
      "[CV 2/5] END ...............model__alpha=1.0;, score=-203.074 total time=   0.3s\n",
      "[CV 3/5] END ...............model__alpha=1.0;, score=-185.040 total time=   0.2s\n",
      "[CV 4/5] END ...............model__alpha=1.0;, score=-157.940 total time=   0.2s\n",
      "[CV 5/5] END ...............model__alpha=1.0;, score=-177.170 total time=   0.2s\n",
      "[CV 1/5] END ...............model__alpha=1.1;, score=-229.952 total time=   0.3s\n",
      "[CV 2/5] END ...............model__alpha=1.1;, score=-202.807 total time=   0.3s\n",
      "[CV 3/5] END ...............model__alpha=1.1;, score=-187.913 total time=   0.1s\n",
      "[CV 4/5] END ...............model__alpha=1.1;, score=-158.431 total time=   0.3s\n",
      "[CV 5/5] END ...............model__alpha=1.1;, score=-177.147 total time=   0.3s\n",
      "[CV 1/5] END model__alpha=1.2000000000000002;, score=-230.346 total time=   0.3s\n",
      "[CV 2/5] END model__alpha=1.2000000000000002;, score=-202.557 total time=   0.2s\n",
      "[CV 3/5] END model__alpha=1.2000000000000002;, score=-189.422 total time=   0.0s\n",
      "[CV 4/5] END model__alpha=1.2000000000000002;, score=-159.022 total time=   0.3s\n",
      "[CV 5/5] END model__alpha=1.2000000000000002;, score=-176.610 total time=   0.3s\n",
      "[CV 1/5] END model__alpha=1.3000000000000003;, score=-230.739 total time=   0.3s\n",
      "[CV 2/5] END model__alpha=1.3000000000000003;, score=-202.463 total time=   0.3s\n",
      "[CV 3/5] END model__alpha=1.3000000000000003;, score=-189.979 total time=   0.0s\n",
      "[CV 4/5] END model__alpha=1.3000000000000003;, score=-159.593 total time=   0.3s\n",
      "[CV 5/5] END model__alpha=1.3000000000000003;, score=-176.397 total time=   0.3s\n",
      "[CV 1/5] END model__alpha=1.4000000000000001;, score=-231.164 total time=   0.3s\n",
      "[CV 2/5] END model__alpha=1.4000000000000001;, score=-202.199 total time=   0.3s\n",
      "[CV 3/5] END model__alpha=1.4000000000000001;, score=-190.541 total time=   0.1s\n",
      "[CV 4/5] END model__alpha=1.4000000000000001;, score=-160.047 total time=   0.3s\n",
      "[CV 5/5] END model__alpha=1.4000000000000001;, score=-176.255 total time=   0.3s\n",
      "[CV 1/5] END model__alpha=1.5000000000000002;, score=-231.666 total time=   0.3s\n",
      "[CV 2/5] END model__alpha=1.5000000000000002;, score=-202.512 total time=   0.2s\n",
      "[CV 3/5] END model__alpha=1.5000000000000002;, score=-191.053 total time=   0.0s\n",
      "[CV 4/5] END model__alpha=1.5000000000000002;, score=-160.683 total time=   0.3s\n",
      "[CV 5/5] END model__alpha=1.5000000000000002;, score=-176.104 total time=   0.3s\n",
      "[CV 1/5] END ...............model__alpha=1.6;, score=-232.244 total time=   0.2s\n",
      "[CV 2/5] END ...............model__alpha=1.6;, score=-203.013 total time=   0.2s\n",
      "[CV 3/5] END ...............model__alpha=1.6;, score=-191.053 total time=   0.1s\n",
      "[CV 4/5] END ...............model__alpha=1.6;, score=-161.318 total time=   0.3s\n",
      "[CV 5/5] END ...............model__alpha=1.6;, score=-176.090 total time=   0.4s\n",
      "[CV 1/5] END model__alpha=1.7000000000000002;, score=-232.900 total time=   0.1s\n",
      "[CV 2/5] END model__alpha=1.7000000000000002;, score=-203.593 total time=   0.2s\n",
      "[CV 3/5] END model__alpha=1.7000000000000002;, score=-191.053 total time=   0.1s\n",
      "[CV 4/5] END model__alpha=1.7000000000000002;, score=-161.992 total time=   0.3s\n",
      "[CV 5/5] END model__alpha=1.7000000000000002;, score=-176.210 total time=   0.4s\n",
      "[CV 1/5] END model__alpha=1.8000000000000003;, score=-233.636 total time=   0.1s\n",
      "[CV 2/5] END model__alpha=1.8000000000000003;, score=-204.192 total time=   0.4s\n",
      "[CV 3/5] END model__alpha=1.8000000000000003;, score=-191.053 total time=   0.1s\n",
      "[CV 4/5] END model__alpha=1.8000000000000003;, score=-162.704 total time=   0.3s\n",
      "[CV 5/5] END model__alpha=1.8000000000000003;, score=-176.466 total time=   0.4s\n",
      "[CV 1/5] END model__alpha=1.9000000000000001;, score=-233.583 total time=   0.1s\n",
      "[CV 2/5] END model__alpha=1.9000000000000001;, score=-204.833 total time=   0.2s\n",
      "[CV 3/5] END model__alpha=1.9000000000000001;, score=-191.053 total time=   0.1s\n",
      "[CV 4/5] END model__alpha=1.9000000000000001;, score=-163.449 total time=   0.1s\n",
      "[CV 5/5] END model__alpha=1.9000000000000001;, score=-176.858 total time=   0.4s\n",
      "[CV 1/5] END ...............model__alpha=2.0;, score=-233.538 total time=   0.1s\n",
      "[CV 2/5] END ...............model__alpha=2.0;, score=-205.088 total time=   0.3s\n",
      "[CV 3/5] END ...............model__alpha=2.0;, score=-191.053 total time=   0.1s\n",
      "[CV 4/5] END ...............model__alpha=2.0;, score=-163.717 total time=   0.1s\n",
      "[CV 5/5] END ...............model__alpha=2.0;, score=-177.386 total time=   0.3s\n",
      "[CV 1/5] END ...............model__alpha=2.1;, score=-233.508 total time=   0.1s\n",
      "[CV 2/5] END ...............model__alpha=2.1;, score=-204.790 total time=   0.3s\n",
      "[CV 3/5] END ...............model__alpha=2.1;, score=-191.053 total time=   0.1s\n",
      "[CV 4/5] END ...............model__alpha=2.1;, score=-163.784 total time=   0.1s\n",
      "[CV 5/5] END ...............model__alpha=2.1;, score=-177.513 total time=   0.3s\n",
      "[CV 1/5] END ...............model__alpha=2.2;, score=-233.491 total time=   0.1s\n",
      "[CV 2/5] END ...............model__alpha=2.2;, score=-204.518 total time=   0.2s\n",
      "[CV 3/5] END ...............model__alpha=2.2;, score=-191.053 total time=   0.2s\n",
      "[CV 4/5] END ...............model__alpha=2.2;, score=-163.784 total time=   0.1s\n",
      "[CV 5/5] END ...............model__alpha=2.2;, score=-177.451 total time=   0.4s\n",
      "[CV 1/5] END model__alpha=2.3000000000000003;, score=-233.487 total time=   0.1s\n",
      "[CV 2/5] END model__alpha=2.3000000000000003;, score=-204.272 total time=   0.2s\n",
      "[CV 3/5] END model__alpha=2.3000000000000003;, score=-191.053 total time=   0.1s\n",
      "[CV 4/5] END model__alpha=2.3000000000000003;, score=-163.784 total time=   0.2s\n",
      "[CV 5/5] END model__alpha=2.3000000000000003;, score=-177.473 total time=   0.3s\n",
      "[CV 1/5] END model__alpha=2.4000000000000004;, score=-233.487 total time=   0.1s\n",
      "[CV 2/5] END model__alpha=2.4000000000000004;, score=-204.052 total time=   0.2s\n",
      "[CV 3/5] END model__alpha=2.4000000000000004;, score=-191.053 total time=   0.1s\n",
      "[CV 4/5] END model__alpha=2.4000000000000004;, score=-163.784 total time=   0.1s\n",
      "[CV 5/5] END model__alpha=2.4000000000000004;, score=-177.578 total time=   0.3s\n",
      "[CV 1/5] END model__alpha=2.5000000000000004;, score=-233.487 total time=   0.1s\n",
      "[CV 2/5] END model__alpha=2.5000000000000004;, score=-203.859 total time=   0.2s\n",
      "[CV 3/5] END model__alpha=2.5000000000000004;, score=-191.053 total time=   0.1s\n",
      "[CV 4/5] END model__alpha=2.5000000000000004;, score=-163.784 total time=   0.1s\n",
      "[CV 5/5] END model__alpha=2.5000000000000004;, score=-177.767 total time=   0.2s\n",
      "[CV 1/5] END ...............model__alpha=2.6;, score=-233.487 total time=   0.2s\n",
      "[CV 2/5] END ...............model__alpha=2.6;, score=-203.742 total time=   0.1s\n",
      "[CV 3/5] END ...............model__alpha=2.6;, score=-191.053 total time=   0.1s\n",
      "[CV 4/5] END ...............model__alpha=2.6;, score=-163.784 total time=   0.2s\n",
      "[CV 5/5] END ...............model__alpha=2.6;, score=-178.039 total time=   0.1s\n",
      "[CV 1/5] END ...............model__alpha=2.7;, score=-233.487 total time=   0.2s\n",
      "[CV 2/5] END ...............model__alpha=2.7;, score=-203.742 total time=   0.1s\n",
      "[CV 3/5] END ...............model__alpha=2.7;, score=-191.053 total time=   0.1s\n",
      "[CV 4/5] END ...............model__alpha=2.7;, score=-163.784 total time=   0.2s\n",
      "[CV 5/5] END ...............model__alpha=2.7;, score=-178.243 total time=   0.1s\n",
      "[CV 1/5] END model__alpha=2.8000000000000003;, score=-233.487 total time=   0.1s\n",
      "[CV 2/5] END model__alpha=2.8000000000000003;, score=-203.742 total time=   0.1s\n",
      "[CV 3/5] END model__alpha=2.8000000000000003;, score=-191.053 total time=   0.2s\n",
      "[CV 4/5] END model__alpha=2.8000000000000003;, score=-163.784 total time=   0.1s\n",
      "[CV 5/5] END model__alpha=2.8000000000000003;, score=-178.243 total time=   0.1s\n",
      "[CV 1/5] END model__alpha=2.9000000000000004;, score=-233.487 total time=   0.2s\n",
      "[CV 2/5] END model__alpha=2.9000000000000004;, score=-203.742 total time=   0.1s\n",
      "[CV 3/5] END model__alpha=2.9000000000000004;, score=-191.053 total time=   0.1s\n",
      "[CV 4/5] END model__alpha=2.9000000000000004;, score=-163.784 total time=   0.2s\n",
      "[CV 5/5] END model__alpha=2.9000000000000004;, score=-178.243 total time=   0.1s\n",
      "[CV 1/5] END model__alpha=3.0000000000000004;, score=-233.487 total time=   0.1s\n",
      "[CV 2/5] END model__alpha=3.0000000000000004;, score=-203.742 total time=   0.1s\n",
      "[CV 3/5] END model__alpha=3.0000000000000004;, score=-191.053 total time=   0.1s\n",
      "[CV 4/5] END model__alpha=3.0000000000000004;, score=-163.784 total time=   0.1s\n",
      "[CV 5/5] END model__alpha=3.0000000000000004;, score=-178.243 total time=   0.1s\n",
      "[CV 1/5] END ...............model__alpha=3.1;, score=-233.487 total time=   0.1s\n",
      "[CV 2/5] END ...............model__alpha=3.1;, score=-203.742 total time=   0.1s\n",
      "[CV 3/5] END ...............model__alpha=3.1;, score=-191.053 total time=   0.1s\n",
      "[CV 4/5] END ...............model__alpha=3.1;, score=-163.784 total time=   0.2s\n",
      "[CV 5/5] END ...............model__alpha=3.1;, score=-178.243 total time=   0.1s\n",
      "[CV 1/5] END ...............model__alpha=3.2;, score=-233.487 total time=   0.1s\n",
      "[CV 2/5] END ...............model__alpha=3.2;, score=-203.742 total time=   0.2s\n",
      "[CV 3/5] END ...............model__alpha=3.2;, score=-191.053 total time=   0.1s\n",
      "[CV 4/5] END ...............model__alpha=3.2;, score=-163.784 total time=   0.1s\n",
      "[CV 5/5] END ...............model__alpha=3.2;, score=-178.243 total time=   0.2s\n",
      "[CV 1/5] END model__alpha=3.3000000000000003;, score=-233.487 total time=   0.1s\n",
      "[CV 2/5] END model__alpha=3.3000000000000003;, score=-203.742 total time=   0.1s\n",
      "[CV 3/5] END model__alpha=3.3000000000000003;, score=-191.053 total time=   0.2s\n",
      "[CV 4/5] END model__alpha=3.3000000000000003;, score=-163.784 total time=   0.1s\n",
      "[CV 5/5] END model__alpha=3.3000000000000003;, score=-178.243 total time=   0.1s\n",
      "[CV 1/5] END model__alpha=3.4000000000000004;, score=-233.487 total time=   0.2s\n",
      "[CV 2/5] END model__alpha=3.4000000000000004;, score=-203.742 total time=   0.1s\n",
      "[CV 3/5] END model__alpha=3.4000000000000004;, score=-191.053 total time=   0.1s\n",
      "[CV 4/5] END model__alpha=3.4000000000000004;, score=-163.784 total time=   0.2s\n",
      "[CV 5/5] END model__alpha=3.4000000000000004;, score=-178.243 total time=   0.1s\n",
      "[CV 1/5] END model__alpha=3.5000000000000004;, score=-233.487 total time=   0.1s\n",
      "[CV 2/5] END model__alpha=3.5000000000000004;, score=-203.742 total time=   0.2s\n",
      "[CV 3/5] END model__alpha=3.5000000000000004;, score=-191.053 total time=   0.1s\n",
      "[CV 4/5] END model__alpha=3.5000000000000004;, score=-163.784 total time=   0.1s\n",
      "[CV 5/5] END model__alpha=3.5000000000000004;, score=-178.243 total time=   0.2s\n",
      "[CV 1/5] END ...............model__alpha=3.6;, score=-233.487 total time=   0.1s\n",
      "[CV 2/5] END ...............model__alpha=3.6;, score=-203.742 total time=   0.1s\n",
      "[CV 3/5] END ...............model__alpha=3.6;, score=-191.053 total time=   0.2s\n",
      "[CV 4/5] END ...............model__alpha=3.6;, score=-163.784 total time=   0.1s\n",
      "[CV 5/5] END ...............model__alpha=3.6;, score=-178.243 total time=   0.1s\n",
      "[CV 1/5] END ...............model__alpha=3.7;, score=-233.487 total time=   0.2s\n",
      "[CV 2/5] END ...............model__alpha=3.7;, score=-203.742 total time=   0.1s\n",
      "[CV 3/5] END ...............model__alpha=3.7;, score=-191.053 total time=   0.1s\n",
      "[CV 4/5] END ...............model__alpha=3.7;, score=-163.784 total time=   0.2s\n",
      "[CV 5/5] END ...............model__alpha=3.7;, score=-178.243 total time=   0.1s\n",
      "[CV 1/5] END model__alpha=3.8000000000000003;, score=-233.487 total time=   0.1s\n",
      "[CV 2/5] END model__alpha=3.8000000000000003;, score=-203.742 total time=   0.1s\n",
      "[CV 3/5] END model__alpha=3.8000000000000003;, score=-191.053 total time=   0.2s\n",
      "[CV 4/5] END model__alpha=3.8000000000000003;, score=-163.784 total time=   0.1s\n",
      "[CV 5/5] END model__alpha=3.8000000000000003;, score=-178.243 total time=   0.1s\n",
      "[CV 1/5] END model__alpha=3.9000000000000004;, score=-233.487 total time=   0.1s\n",
      "[CV 2/5] END model__alpha=3.9000000000000004;, score=-203.742 total time=   0.1s\n",
      "[CV 3/5] END model__alpha=3.9000000000000004;, score=-191.053 total time=   0.1s\n",
      "[CV 4/5] END model__alpha=3.9000000000000004;, score=-163.784 total time=   0.1s\n",
      "[CV 5/5] END model__alpha=3.9000000000000004;, score=-178.243 total time=   0.2s\n",
      "[CV 1/5] END ...............model__alpha=4.0;, score=-233.487 total time=   0.1s\n",
      "[CV 2/5] END ...............model__alpha=4.0;, score=-203.742 total time=   0.1s\n",
      "[CV 3/5] END ...............model__alpha=4.0;, score=-191.053 total time=   0.1s\n",
      "[CV 4/5] END ...............model__alpha=4.0;, score=-163.784 total time=   0.1s\n",
      "[CV 5/5] END ...............model__alpha=4.0;, score=-178.243 total time=   0.1s\n",
      "[CV 1/5] END ...............model__alpha=4.1;, score=-233.487 total time=   0.1s\n",
      "[CV 2/5] END ...............model__alpha=4.1;, score=-203.742 total time=   0.2s\n",
      "[CV 3/5] END ...............model__alpha=4.1;, score=-191.053 total time=   0.1s\n",
      "[CV 4/5] END ...............model__alpha=4.1;, score=-163.784 total time=   0.1s\n",
      "[CV 5/5] END ...............model__alpha=4.1;, score=-178.243 total time=   0.1s\n",
      "[CV 1/5] END ...............model__alpha=4.2;, score=-233.487 total time=   0.2s\n",
      "[CV 2/5] END ...............model__alpha=4.2;, score=-203.742 total time=   0.1s\n",
      "[CV 3/5] END ...............model__alpha=4.2;, score=-191.053 total time=   0.1s\n",
      "[CV 4/5] END ...............model__alpha=4.2;, score=-163.784 total time=   0.2s\n",
      "[CV 5/5] END ...............model__alpha=4.2;, score=-178.243 total time=   0.1s\n",
      "[CV 1/5] END ...............model__alpha=4.3;, score=-233.487 total time=   0.1s\n",
      "[CV 2/5] END ...............model__alpha=4.3;, score=-203.742 total time=   0.1s\n",
      "[CV 3/5] END ...............model__alpha=4.3;, score=-191.053 total time=   0.2s\n",
      "[CV 4/5] END ...............model__alpha=4.3;, score=-163.784 total time=   0.1s\n",
      "[CV 5/5] END ...............model__alpha=4.3;, score=-178.243 total time=   0.1s\n",
      "[CV 1/5] END model__alpha=4.3999999999999995;, score=-233.487 total time=   0.2s\n",
      "[CV 2/5] END model__alpha=4.3999999999999995;, score=-203.742 total time=   0.1s\n",
      "[CV 3/5] END model__alpha=4.3999999999999995;, score=-191.053 total time=   0.1s\n",
      "[CV 4/5] END model__alpha=4.3999999999999995;, score=-163.784 total time=   0.2s\n",
      "[CV 5/5] END model__alpha=4.3999999999999995;, score=-178.243 total time=   0.1s\n",
      "[CV 1/5] END ...............model__alpha=4.5;, score=-233.487 total time=   0.1s\n",
      "[CV 2/5] END ...............model__alpha=4.5;, score=-203.742 total time=   0.1s\n",
      "[CV 3/5] END ...............model__alpha=4.5;, score=-191.053 total time=   0.1s\n",
      "[CV 4/5] END ...............model__alpha=4.5;, score=-163.784 total time=   0.1s\n",
      "[CV 5/5] END ...............model__alpha=4.5;, score=-178.243 total time=   0.1s\n",
      "[CV 1/5] END ...............model__alpha=4.6;, score=-233.487 total time=   0.1s\n",
      "[CV 2/5] END ...............model__alpha=4.6;, score=-203.742 total time=   0.1s\n",
      "[CV 3/5] END ...............model__alpha=4.6;, score=-191.053 total time=   0.2s\n",
      "[CV 4/5] END ...............model__alpha=4.6;, score=-163.784 total time=   0.1s\n",
      "[CV 5/5] END ...............model__alpha=4.6;, score=-178.243 total time=   0.1s\n",
      "[CV 1/5] END ...............model__alpha=4.7;, score=-233.487 total time=   0.1s\n",
      "[CV 2/5] END ...............model__alpha=4.7;, score=-203.742 total time=   0.1s\n",
      "[CV 3/5] END ...............model__alpha=4.7;, score=-191.053 total time=   0.1s\n",
      "[CV 4/5] END ...............model__alpha=4.7;, score=-163.784 total time=   0.1s\n",
      "[CV 5/5] END ...............model__alpha=4.7;, score=-178.243 total time=   0.2s\n",
      "[CV 1/5] END ...............model__alpha=4.8;, score=-233.487 total time=   0.1s\n",
      "[CV 2/5] END ...............model__alpha=4.8;, score=-203.742 total time=   0.1s\n",
      "[CV 3/5] END ...............model__alpha=4.8;, score=-191.053 total time=   0.1s\n",
      "[CV 4/5] END ...............model__alpha=4.8;, score=-163.784 total time=   0.1s\n",
      "[CV 5/5] END ...............model__alpha=4.8;, score=-178.243 total time=   0.1s\n",
      "[CV 1/5] END ...............model__alpha=4.9;, score=-233.487 total time=   0.1s\n",
      "[CV 2/5] END ...............model__alpha=4.9;, score=-203.742 total time=   0.2s\n",
      "[CV 3/5] END ...............model__alpha=4.9;, score=-191.053 total time=   0.1s\n",
      "[CV 4/5] END ...............model__alpha=4.9;, score=-163.784 total time=   0.1s\n",
      "[CV 5/5] END ...............model__alpha=4.9;, score=-178.243 total time=   0.2s\n",
      "[CV 1/5] END ...............model__alpha=5.0;, score=-233.487 total time=   0.1s\n",
      "[CV 2/5] END ...............model__alpha=5.0;, score=-203.742 total time=   0.1s\n",
      "[CV 3/5] END ...............model__alpha=5.0;, score=-191.053 total time=   0.2s\n",
      "[CV 4/5] END ...............model__alpha=5.0;, score=-163.784 total time=   0.1s\n",
      "[CV 5/5] END ...............model__alpha=5.0;, score=-178.243 total time=   0.1s\n",
      "[CV 1/5] END ...............model__alpha=5.1;, score=-233.487 total time=   0.2s\n",
      "[CV 2/5] END ...............model__alpha=5.1;, score=-203.742 total time=   0.1s\n",
      "[CV 3/5] END ...............model__alpha=5.1;, score=-191.053 total time=   0.1s\n",
      "[CV 4/5] END ...............model__alpha=5.1;, score=-163.784 total time=   0.2s\n",
      "[CV 5/5] END ...............model__alpha=5.1;, score=-178.243 total time=   0.1s\n",
      "[CV 1/5] END ...............model__alpha=5.2;, score=-233.487 total time=   0.1s\n",
      "[CV 2/5] END ...............model__alpha=5.2;, score=-203.742 total time=   0.1s\n",
      "[CV 3/5] END ...............model__alpha=5.2;, score=-191.053 total time=   0.2s\n",
      "[CV 4/5] END ...............model__alpha=5.2;, score=-163.784 total time=   0.1s\n",
      "[CV 5/5] END ...............model__alpha=5.2;, score=-178.243 total time=   0.1s\n",
      "[CV 1/5] END ...............model__alpha=5.3;, score=-233.487 total time=   0.2s\n",
      "[CV 2/5] END ...............model__alpha=5.3;, score=-203.742 total time=   0.1s\n",
      "[CV 3/5] END ...............model__alpha=5.3;, score=-191.053 total time=   0.1s\n",
      "[CV 4/5] END ...............model__alpha=5.3;, score=-163.784 total time=   0.2s\n",
      "[CV 5/5] END ...............model__alpha=5.3;, score=-178.243 total time=   0.1s\n",
      "[CV 1/5] END ...............model__alpha=5.4;, score=-233.487 total time=   0.1s\n",
      "[CV 2/5] END ...............model__alpha=5.4;, score=-203.742 total time=   0.1s\n",
      "[CV 3/5] END ...............model__alpha=5.4;, score=-191.053 total time=   0.1s\n",
      "[CV 4/5] END ...............model__alpha=5.4;, score=-163.784 total time=   0.1s\n",
      "[CV 5/5] END ...............model__alpha=5.4;, score=-178.243 total time=   0.1s\n",
      "[CV 1/5] END ...............model__alpha=5.5;, score=-233.487 total time=   0.2s\n",
      "[CV 2/5] END ...............model__alpha=5.5;, score=-203.742 total time=   0.1s\n",
      "[CV 3/5] END ...............model__alpha=5.5;, score=-191.053 total time=   0.2s\n",
      "[CV 4/5] END ...............model__alpha=5.5;, score=-163.784 total time=   0.1s\n",
      "[CV 5/5] END ...............model__alpha=5.5;, score=-178.243 total time=   0.1s\n",
      "[CV 1/5] END ...............model__alpha=5.6;, score=-233.487 total time=   0.1s\n",
      "[CV 2/5] END ...............model__alpha=5.6;, score=-203.742 total time=   0.2s\n",
      "[CV 3/5] END ...............model__alpha=5.6;, score=-191.053 total time=   0.1s\n",
      "[CV 4/5] END ...............model__alpha=5.6;, score=-163.784 total time=   0.1s\n",
      "[CV 5/5] END ...............model__alpha=5.6;, score=-178.243 total time=   0.2s\n",
      "[CV 1/5] END ...............model__alpha=5.7;, score=-233.487 total time=   0.1s\n",
      "[CV 2/5] END ...............model__alpha=5.7;, score=-203.742 total time=   0.1s\n",
      "[CV 3/5] END ...............model__alpha=5.7;, score=-191.053 total time=   0.2s\n",
      "[CV 4/5] END ...............model__alpha=5.7;, score=-163.784 total time=   0.1s\n",
      "[CV 5/5] END ...............model__alpha=5.7;, score=-178.243 total time=   0.1s\n",
      "[CV 1/5] END ...............model__alpha=5.8;, score=-233.487 total time=   0.1s\n",
      "[CV 2/5] END ...............model__alpha=5.8;, score=-203.742 total time=   0.1s\n",
      "[CV 3/5] END ...............model__alpha=5.8;, score=-191.053 total time=   0.1s\n",
      "[CV 4/5] END ...............model__alpha=5.8;, score=-163.784 total time=   0.1s\n",
      "[CV 5/5] END ...............model__alpha=5.8;, score=-178.243 total time=   0.1s\n",
      "[CV 1/5] END ...............model__alpha=5.9;, score=-233.487 total time=   0.1s\n",
      "[CV 2/5] END ...............model__alpha=5.9;, score=-203.742 total time=   0.1s\n",
      "[CV 3/5] END ...............model__alpha=5.9;, score=-191.053 total time=   0.1s\n",
      "[CV 4/5] END ...............model__alpha=5.9;, score=-163.784 total time=   0.1s\n",
      "[CV 5/5] END ...............model__alpha=5.9;, score=-178.243 total time=   0.1s\n",
      "[CV 1/5] END ...............model__alpha=6.0;, score=-233.487 total time=   0.1s\n",
      "[CV 2/5] END ...............model__alpha=6.0;, score=-203.742 total time=   0.1s\n",
      "[CV 3/5] END ...............model__alpha=6.0;, score=-191.053 total time=   0.1s\n",
      "[CV 4/5] END ...............model__alpha=6.0;, score=-163.784 total time=   0.1s\n",
      "[CV 5/5] END ...............model__alpha=6.0;, score=-178.243 total time=   0.1s\n",
      "[CV 1/5] END ...............model__alpha=6.1;, score=-233.487 total time=   0.1s\n",
      "[CV 2/5] END ...............model__alpha=6.1;, score=-203.742 total time=   0.2s\n",
      "[CV 3/5] END ...............model__alpha=6.1;, score=-191.053 total time=   0.1s\n",
      "[CV 4/5] END ...............model__alpha=6.1;, score=-163.784 total time=   0.1s\n",
      "[CV 5/5] END ...............model__alpha=6.1;, score=-178.243 total time=   0.1s\n",
      "[CV 1/5] END ...............model__alpha=6.2;, score=-233.487 total time=   0.2s\n",
      "[CV 2/5] END ...............model__alpha=6.2;, score=-203.742 total time=   0.1s\n",
      "[CV 3/5] END ...............model__alpha=6.2;, score=-191.053 total time=   0.1s\n",
      "[CV 4/5] END ...............model__alpha=6.2;, score=-163.784 total time=   0.1s\n",
      "[CV 5/5] END ...............model__alpha=6.2;, score=-178.243 total time=   0.2s\n",
      "[CV 1/5] END ...............model__alpha=6.3;, score=-233.487 total time=   0.1s\n",
      "[CV 2/5] END ...............model__alpha=6.3;, score=-203.742 total time=   0.1s\n",
      "[CV 3/5] END ...............model__alpha=6.3;, score=-191.053 total time=   0.1s\n",
      "[CV 4/5] END ...............model__alpha=6.3;, score=-163.784 total time=   0.2s\n",
      "[CV 5/5] END ...............model__alpha=6.3;, score=-178.243 total time=   0.1s\n",
      "[CV 1/5] END ...............model__alpha=6.4;, score=-233.487 total time=   0.1s\n",
      "[CV 2/5] END ...............model__alpha=6.4;, score=-203.742 total time=   0.1s\n",
      "[CV 3/5] END ...............model__alpha=6.4;, score=-191.053 total time=   0.2s\n",
      "[CV 4/5] END ...............model__alpha=6.4;, score=-163.784 total time=   0.1s\n",
      "[CV 5/5] END ...............model__alpha=6.4;, score=-178.243 total time=   0.1s\n",
      "[CV 1/5] END ...............model__alpha=6.5;, score=-233.487 total time=   0.1s\n",
      "[CV 2/5] END ...............model__alpha=6.5;, score=-203.742 total time=   0.1s\n",
      "[CV 3/5] END ...............model__alpha=6.5;, score=-191.053 total time=   0.1s\n",
      "[CV 4/5] END ...............model__alpha=6.5;, score=-163.784 total time=   0.1s\n",
      "[CV 5/5] END ...............model__alpha=6.5;, score=-178.243 total time=   0.1s\n",
      "[CV 1/5] END ...............model__alpha=6.6;, score=-233.487 total time=   0.1s\n",
      "[CV 2/5] END ...............model__alpha=6.6;, score=-203.742 total time=   0.1s\n",
      "[CV 3/5] END ...............model__alpha=6.6;, score=-191.053 total time=   0.2s\n",
      "[CV 4/5] END ...............model__alpha=6.6;, score=-163.784 total time=   0.1s\n",
      "[CV 5/5] END ...............model__alpha=6.6;, score=-178.243 total time=   0.1s\n",
      "[CV 1/5] END ...............model__alpha=6.7;, score=-233.487 total time=   0.1s\n",
      "[CV 2/5] END ...............model__alpha=6.7;, score=-203.742 total time=   0.2s\n",
      "[CV 3/5] END ...............model__alpha=6.7;, score=-191.053 total time=   0.1s\n",
      "[CV 4/5] END ...............model__alpha=6.7;, score=-163.784 total time=   0.1s\n",
      "[CV 5/5] END ...............model__alpha=6.7;, score=-178.243 total time=   0.1s\n",
      "[CV 1/5] END ...............model__alpha=6.8;, score=-233.487 total time=   0.1s\n",
      "[CV 2/5] END ...............model__alpha=6.8;, score=-203.742 total time=   0.1s\n",
      "[CV 3/5] END ...............model__alpha=6.8;, score=-191.053 total time=   0.1s\n",
      "[CV 4/5] END ...............model__alpha=6.8;, score=-163.784 total time=   0.1s\n",
      "[CV 5/5] END ...............model__alpha=6.8;, score=-178.243 total time=   0.1s\n",
      "[CV 1/5] END ...............model__alpha=6.9;, score=-233.487 total time=   0.2s\n",
      "[CV 2/5] END ...............model__alpha=6.9;, score=-203.742 total time=   0.1s\n",
      "[CV 3/5] END ...............model__alpha=6.9;, score=-191.053 total time=   0.1s\n",
      "[CV 4/5] END ...............model__alpha=6.9;, score=-163.784 total time=   0.2s\n",
      "[CV 5/5] END ...............model__alpha=6.9;, score=-178.243 total time=   0.1s\n",
      "[CV 1/5] END ...............model__alpha=7.0;, score=-233.487 total time=   0.1s\n",
      "[CV 2/5] END ...............model__alpha=7.0;, score=-203.742 total time=   0.2s\n",
      "[CV 3/5] END ...............model__alpha=7.0;, score=-191.053 total time=   0.1s\n",
      "[CV 4/5] END ...............model__alpha=7.0;, score=-163.784 total time=   0.1s\n",
      "[CV 5/5] END ...............model__alpha=7.0;, score=-178.243 total time=   0.2s\n",
      "[CV 1/5] END ...............model__alpha=7.1;, score=-233.487 total time=   0.1s\n",
      "[CV 2/5] END ...............model__alpha=7.1;, score=-203.742 total time=   0.1s\n",
      "[CV 3/5] END ...............model__alpha=7.1;, score=-191.053 total time=   0.1s\n",
      "[CV 4/5] END ...............model__alpha=7.1;, score=-163.784 total time=   0.2s\n",
      "[CV 5/5] END ...............model__alpha=7.1;, score=-178.243 total time=   0.1s\n",
      "[CV 1/5] END ...............model__alpha=7.2;, score=-233.487 total time=   0.1s\n",
      "[CV 2/5] END ...............model__alpha=7.2;, score=-203.742 total time=   0.1s\n",
      "[CV 3/5] END ...............model__alpha=7.2;, score=-191.053 total time=   0.2s\n",
      "[CV 4/5] END ...............model__alpha=7.2;, score=-163.784 total time=   0.1s\n",
      "[CV 5/5] END ...............model__alpha=7.2;, score=-178.243 total time=   0.1s\n",
      "[CV 1/5] END ...............model__alpha=7.3;, score=-233.487 total time=   0.2s\n",
      "[CV 2/5] END ...............model__alpha=7.3;, score=-203.742 total time=   0.1s\n",
      "[CV 3/5] END ...............model__alpha=7.3;, score=-191.053 total time=   0.1s\n",
      "[CV 4/5] END ...............model__alpha=7.3;, score=-163.784 total time=   0.1s\n",
      "[CV 5/5] END ...............model__alpha=7.3;, score=-178.243 total time=   0.2s\n",
      "[CV 1/5] END ...............model__alpha=7.4;, score=-233.487 total time=   0.1s\n",
      "[CV 2/5] END ...............model__alpha=7.4;, score=-203.742 total time=   0.1s\n",
      "[CV 3/5] END ...............model__alpha=7.4;, score=-191.053 total time=   0.2s\n",
      "[CV 4/5] END ...............model__alpha=7.4;, score=-163.784 total time=   0.1s\n",
      "[CV 5/5] END ...............model__alpha=7.4;, score=-178.243 total time=   0.1s\n",
      "[CV 1/5] END ...............model__alpha=7.5;, score=-233.487 total time=   0.1s\n",
      "[CV 2/5] END ...............model__alpha=7.5;, score=-203.742 total time=   0.1s\n",
      "[CV 3/5] END ...............model__alpha=7.5;, score=-191.053 total time=   0.1s\n",
      "[CV 4/5] END ...............model__alpha=7.5;, score=-163.784 total time=   0.1s\n",
      "[CV 5/5] END ...............model__alpha=7.5;, score=-178.243 total time=   0.2s\n",
      "[CV 1/5] END ...............model__alpha=7.6;, score=-233.487 total time=   0.1s\n",
      "[CV 2/5] END ...............model__alpha=7.6;, score=-203.742 total time=   0.1s\n",
      "[CV 3/5] END ...............model__alpha=7.6;, score=-191.053 total time=   0.2s\n",
      "[CV 4/5] END ...............model__alpha=7.6;, score=-163.784 total time=   0.1s\n",
      "[CV 5/5] END ...............model__alpha=7.6;, score=-178.243 total time=   0.1s\n",
      "[CV 1/5] END ...............model__alpha=7.7;, score=-233.487 total time=   0.1s\n",
      "[CV 2/5] END ...............model__alpha=7.7;, score=-203.742 total time=   0.2s\n",
      "[CV 3/5] END ...............model__alpha=7.7;, score=-191.053 total time=   0.1s\n",
      "[CV 4/5] END ...............model__alpha=7.7;, score=-163.784 total time=   0.1s\n",
      "[CV 5/5] END ...............model__alpha=7.7;, score=-178.243 total time=   0.2s\n",
      "[CV 1/5] END ...............model__alpha=7.8;, score=-233.487 total time=   0.1s\n",
      "[CV 2/5] END ...............model__alpha=7.8;, score=-203.742 total time=   0.1s\n",
      "[CV 3/5] END ...............model__alpha=7.8;, score=-191.053 total time=   0.1s\n",
      "[CV 4/5] END ...............model__alpha=7.8;, score=-163.784 total time=   0.1s\n",
      "[CV 5/5] END ...............model__alpha=7.8;, score=-178.243 total time=   0.1s\n",
      "[CV 1/5] END ...............model__alpha=7.9;, score=-233.487 total time=   0.1s\n",
      "[CV 2/5] END ...............model__alpha=7.9;, score=-203.742 total time=   0.1s\n",
      "[CV 3/5] END ...............model__alpha=7.9;, score=-191.053 total time=   0.1s\n",
      "[CV 4/5] END ...............model__alpha=7.9;, score=-163.784 total time=   0.1s\n",
      "[CV 5/5] END ...............model__alpha=7.9;, score=-178.243 total time=   0.1s\n",
      "[CV 1/5] END ...............model__alpha=8.0;, score=-233.487 total time=   0.2s\n",
      "[CV 2/5] END ...............model__alpha=8.0;, score=-203.742 total time=   0.1s\n",
      "[CV 3/5] END ...............model__alpha=8.0;, score=-191.053 total time=   0.1s\n",
      "[CV 4/5] END ...............model__alpha=8.0;, score=-163.784 total time=   0.1s\n",
      "[CV 5/5] END ...............model__alpha=8.0;, score=-178.243 total time=   0.1s\n",
      "[CV 1/5] END ...............model__alpha=8.1;, score=-233.487 total time=   0.1s\n",
      "[CV 2/5] END ...............model__alpha=8.1;, score=-203.742 total time=   0.1s\n",
      "[CV 3/5] END ...............model__alpha=8.1;, score=-191.053 total time=   0.1s\n",
      "[CV 4/5] END ...............model__alpha=8.1;, score=-163.784 total time=   0.1s\n",
      "[CV 5/5] END ...............model__alpha=8.1;, score=-178.243 total time=   0.1s\n",
      "[CV 1/5] END ...............model__alpha=8.2;, score=-233.487 total time=   0.1s\n",
      "[CV 2/5] END ...............model__alpha=8.2;, score=-203.742 total time=   0.2s\n",
      "[CV 3/5] END ...............model__alpha=8.2;, score=-191.053 total time=   0.1s\n",
      "[CV 4/5] END ...............model__alpha=8.2;, score=-163.784 total time=   0.1s\n",
      "[CV 5/5] END ...............model__alpha=8.2;, score=-178.243 total time=   0.1s\n",
      "[CV 1/5] END ...............model__alpha=8.3;, score=-233.487 total time=   0.1s\n",
      "[CV 2/5] END ...............model__alpha=8.3;, score=-203.742 total time=   0.1s\n",
      "[CV 3/5] END ...............model__alpha=8.3;, score=-191.053 total time=   0.1s\n",
      "[CV 4/5] END ...............model__alpha=8.3;, score=-163.784 total time=   0.2s\n",
      "[CV 5/5] END ...............model__alpha=8.3;, score=-178.243 total time=   0.1s\n",
      "[CV 1/5] END ...............model__alpha=8.4;, score=-233.487 total time=   0.1s\n",
      "[CV 2/5] END ...............model__alpha=8.4;, score=-203.742 total time=   0.1s\n",
      "[CV 3/5] END ...............model__alpha=8.4;, score=-191.053 total time=   0.2s\n",
      "[CV 4/5] END ...............model__alpha=8.4;, score=-163.784 total time=   0.1s\n",
      "[CV 5/5] END ...............model__alpha=8.4;, score=-178.243 total time=   0.1s\n",
      "[CV 1/5] END ...............model__alpha=8.5;, score=-233.487 total time=   0.2s\n",
      "[CV 2/5] END ...............model__alpha=8.5;, score=-203.742 total time=   0.1s\n",
      "[CV 3/5] END ...............model__alpha=8.5;, score=-191.053 total time=   0.1s\n",
      "[CV 4/5] END ...............model__alpha=8.5;, score=-163.784 total time=   0.2s\n",
      "[CV 5/5] END ...............model__alpha=8.5;, score=-178.243 total time=   0.1s\n",
      "[CV 1/5] END ...............model__alpha=8.6;, score=-233.487 total time=   0.1s\n",
      "[CV 2/5] END ...............model__alpha=8.6;, score=-203.742 total time=   0.1s\n",
      "[CV 3/5] END ...............model__alpha=8.6;, score=-191.053 total time=   0.1s\n",
      "[CV 4/5] END ...............model__alpha=8.6;, score=-163.784 total time=   0.1s\n",
      "[CV 5/5] END ...............model__alpha=8.6;, score=-178.243 total time=   0.1s\n",
      "[CV 1/5] END ...............model__alpha=8.7;, score=-233.487 total time=   0.1s\n",
      "[CV 2/5] END ...............model__alpha=8.7;, score=-203.742 total time=   0.1s\n",
      "[CV 3/5] END ...............model__alpha=8.7;, score=-191.053 total time=   0.1s\n",
      "[CV 4/5] END ...............model__alpha=8.7;, score=-163.784 total time=   0.1s\n",
      "[CV 5/5] END ...............model__alpha=8.7;, score=-178.243 total time=   0.1s\n",
      "[CV 1/5] END ...............model__alpha=8.8;, score=-233.487 total time=   0.1s\n",
      "[CV 2/5] END ...............model__alpha=8.8;, score=-203.742 total time=   0.1s\n",
      "[CV 3/5] END ...............model__alpha=8.8;, score=-191.053 total time=   0.1s\n",
      "[CV 4/5] END ...............model__alpha=8.8;, score=-163.784 total time=   0.1s\n",
      "[CV 5/5] END ...............model__alpha=8.8;, score=-178.243 total time=   0.1s\n",
      "[CV 1/5] END ...............model__alpha=8.9;, score=-233.487 total time=   0.1s\n",
      "[CV 2/5] END ...............model__alpha=8.9;, score=-203.742 total time=   0.1s\n",
      "[CV 3/5] END ...............model__alpha=8.9;, score=-191.053 total time=   0.1s\n",
      "[CV 4/5] END ...............model__alpha=8.9;, score=-163.784 total time=   0.1s\n",
      "[CV 5/5] END ...............model__alpha=8.9;, score=-178.243 total time=   0.1s\n",
      "[CV 1/5] END ...............model__alpha=9.0;, score=-233.487 total time=   0.1s\n",
      "[CV 2/5] END ...............model__alpha=9.0;, score=-203.742 total time=   0.1s\n",
      "[CV 3/5] END ...............model__alpha=9.0;, score=-191.053 total time=   0.1s\n",
      "[CV 4/5] END ...............model__alpha=9.0;, score=-163.784 total time=   0.1s\n",
      "[CV 5/5] END ...............model__alpha=9.0;, score=-178.243 total time=   0.1s\n",
      "[CV 1/5] END ...............model__alpha=9.1;, score=-233.487 total time=   0.1s\n",
      "[CV 2/5] END ...............model__alpha=9.1;, score=-203.742 total time=   0.1s\n",
      "[CV 3/5] END ...............model__alpha=9.1;, score=-191.053 total time=   0.1s\n",
      "[CV 4/5] END ...............model__alpha=9.1;, score=-163.784 total time=   0.1s\n",
      "[CV 5/5] END ...............model__alpha=9.1;, score=-178.243 total time=   0.1s\n",
      "[CV 1/5] END ...............model__alpha=9.2;, score=-233.487 total time=   0.1s\n",
      "[CV 2/5] END ...............model__alpha=9.2;, score=-203.742 total time=   0.1s\n",
      "[CV 3/5] END ...............model__alpha=9.2;, score=-191.053 total time=   0.1s\n",
      "[CV 4/5] END ...............model__alpha=9.2;, score=-163.784 total time=   0.1s\n",
      "[CV 5/5] END ...............model__alpha=9.2;, score=-178.243 total time=   0.1s\n",
      "[CV 1/5] END ...............model__alpha=9.3;, score=-233.487 total time=   0.1s\n",
      "[CV 2/5] END ...............model__alpha=9.3;, score=-203.742 total time=   0.1s\n",
      "[CV 3/5] END ...............model__alpha=9.3;, score=-191.053 total time=   0.1s\n",
      "[CV 4/5] END ...............model__alpha=9.3;, score=-163.784 total time=   0.1s\n",
      "[CV 5/5] END ...............model__alpha=9.3;, score=-178.243 total time=   0.1s\n",
      "[CV 1/5] END ...............model__alpha=9.4;, score=-233.487 total time=   0.1s\n",
      "[CV 2/5] END ...............model__alpha=9.4;, score=-203.742 total time=   0.2s\n",
      "[CV 3/5] END ...............model__alpha=9.4;, score=-191.053 total time=   0.1s\n",
      "[CV 4/5] END ...............model__alpha=9.4;, score=-163.784 total time=   0.1s\n",
      "[CV 5/5] END ...............model__alpha=9.4;, score=-178.243 total time=   0.2s\n",
      "[CV 1/5] END ...............model__alpha=9.5;, score=-233.487 total time=   0.1s\n",
      "[CV 2/5] END ...............model__alpha=9.5;, score=-203.742 total time=   0.1s\n",
      "[CV 3/5] END ...............model__alpha=9.5;, score=-191.053 total time=   0.2s\n",
      "[CV 4/5] END ...............model__alpha=9.5;, score=-163.784 total time=   0.1s\n",
      "[CV 5/5] END ...............model__alpha=9.5;, score=-178.243 total time=   0.1s\n",
      "[CV 1/5] END ...............model__alpha=9.6;, score=-233.487 total time=   0.1s\n",
      "[CV 2/5] END ...............model__alpha=9.6;, score=-203.742 total time=   0.2s\n",
      "[CV 3/5] END ...............model__alpha=9.6;, score=-191.053 total time=   0.1s\n",
      "[CV 4/5] END ...............model__alpha=9.6;, score=-163.784 total time=   0.2s\n",
      "[CV 5/5] END ...............model__alpha=9.6;, score=-178.243 total time=   0.2s\n",
      "[CV 1/5] END .model__alpha=9.700000000000001;, score=-233.487 total time=   0.2s\n",
      "[CV 2/5] END .model__alpha=9.700000000000001;, score=-203.742 total time=   0.2s\n",
      "[CV 3/5] END .model__alpha=9.700000000000001;, score=-191.053 total time=   0.1s\n",
      "[CV 4/5] END .model__alpha=9.700000000000001;, score=-163.784 total time=   0.1s\n",
      "[CV 5/5] END .model__alpha=9.700000000000001;, score=-178.243 total time=   0.2s\n",
      "[CV 1/5] END ...............model__alpha=9.8;, score=-233.487 total time=   0.1s\n",
      "[CV 2/5] END ...............model__alpha=9.8;, score=-203.742 total time=   0.1s\n",
      "[CV 3/5] END ...............model__alpha=9.8;, score=-191.053 total time=   0.1s\n",
      "[CV 4/5] END ...............model__alpha=9.8;, score=-163.784 total time=   0.2s\n",
      "[CV 5/5] END ...............model__alpha=9.8;, score=-178.243 total time=   0.1s\n",
      "[CV 1/5] END ...............model__alpha=9.9;, score=-233.487 total time=   0.1s\n",
      "[CV 2/5] END ...............model__alpha=9.9;, score=-203.742 total time=   0.2s\n",
      "[CV 3/5] END ...............model__alpha=9.9;, score=-191.053 total time=   0.1s\n",
      "[CV 4/5] END ...............model__alpha=9.9;, score=-163.784 total time=   0.1s\n",
      "[CV 5/5] END ...............model__alpha=9.9;, score=-178.243 total time=   0.1s\n",
      "CPU times: user 29min 42s, sys: 45.6 s, total: 30min 28s\n",
      "Wall time: 1min 16s\n"
     ]
    },
    {
     "name": "stderr",
     "output_type": "stream",
     "text": [
      "/home/jupyter-17523142/.local/lib/python3.7/site-packages/sklearn/linear_model/_coordinate_descent.py:648: ConvergenceWarning: Objective did not converge. You might want to increase the number of iterations, check the scale of the features or consider increasing regularisation. Duality gap: 5.956e+01, tolerance: 2.495e+00\n",
      "  coef_, l1_reg, l2_reg, X, y, max_iter, tol, rng, random, positive\n"
     ]
    },
    {
     "data": {
      "text/plain": [
       "GridSearchCV(cv=5,\n",
       "             estimator=Pipeline(steps=[('scaler', StandardScaler()),\n",
       "                                       ('model', Lasso())]),\n",
       "             param_grid={'model__alpha': array([0.1, 0.2, 0.3, 0.4, 0.5, 0.6, 0.7, 0.8, 0.9, 1. , 1.1, 1.2, 1.3,\n",
       "       1.4, 1.5, 1.6, 1.7, 1.8, 1.9, 2. , 2.1, 2.2, 2.3, 2.4, 2.5, 2.6,\n",
       "       2.7, 2.8, 2.9, 3. , 3.1, 3.2, 3.3, 3.4, 3.5, 3.6, 3.7, 3.8, 3.9,\n",
       "       4. , 4.1, 4.2, 4.3, 4.4, 4.5, 4.6, 4.7, 4.8, 4.9, 5. , 5.1, 5.2,\n",
       "       5.3, 5.4, 5.5, 5.6, 5.7, 5.8, 5.9, 6. , 6.1, 6.2, 6.3, 6.4, 6.5,\n",
       "       6.6, 6.7, 6.8, 6.9, 7. , 7.1, 7.2, 7.3, 7.4, 7.5, 7.6, 7.7, 7.8,\n",
       "       7.9, 8. , 8.1, 8.2, 8.3, 8.4, 8.5, 8.6, 8.7, 8.8, 8.9, 9. , 9.1,\n",
       "       9.2, 9.3, 9.4, 9.5, 9.6, 9.7, 9.8, 9.9])},\n",
       "             scoring='neg_mean_squared_error', verbose=3)"
      ]
     },
     "execution_count": 5,
     "metadata": {},
     "output_type": "execute_result"
    }
   ],
   "source": [
    "%%time\n",
    "\n",
    "search.fit(x_train,y_train)"
   ]
  },
  {
   "cell_type": "code",
   "execution_count": 6,
   "metadata": {},
   "outputs": [
    {
     "data": {
      "text/plain": [
       "{'model__alpha': 0.1}"
      ]
     },
     "execution_count": 6,
     "metadata": {},
     "output_type": "execute_result"
    }
   ],
   "source": [
    "search.best_params_"
   ]
  },
  {
   "cell_type": "code",
   "execution_count": 9,
   "metadata": {
    "scrolled": true
   },
   "outputs": [
    {
     "data": {
      "text/plain": [
       "['__abstractmethods__',\n",
       " '__class__',\n",
       " '__delattr__',\n",
       " '__dict__',\n",
       " '__dir__',\n",
       " '__doc__',\n",
       " '__eq__',\n",
       " '__format__',\n",
       " '__ge__',\n",
       " '__getattribute__',\n",
       " '__getstate__',\n",
       " '__gt__',\n",
       " '__hash__',\n",
       " '__init__',\n",
       " '__init_subclass__',\n",
       " '__le__',\n",
       " '__lt__',\n",
       " '__module__',\n",
       " '__ne__',\n",
       " '__new__',\n",
       " '__reduce__',\n",
       " '__reduce_ex__',\n",
       " '__repr__',\n",
       " '__setattr__',\n",
       " '__setstate__',\n",
       " '__sizeof__',\n",
       " '__str__',\n",
       " '__subclasshook__',\n",
       " '__weakref__',\n",
       " '_abc_impl',\n",
       " '_check_feature_names',\n",
       " '_check_n_features',\n",
       " '_decision_function',\n",
       " '_estimator_type',\n",
       " '_get_param_names',\n",
       " '_get_tags',\n",
       " '_more_tags',\n",
       " '_preprocess_data',\n",
       " '_repr_html_',\n",
       " '_repr_html_inner',\n",
       " '_repr_mimebundle_',\n",
       " '_set_intercept',\n",
       " '_validate_data',\n",
       " 'alpha',\n",
       " 'coef_',\n",
       " 'copy_X',\n",
       " 'dual_gap_',\n",
       " 'fit',\n",
       " 'fit_intercept',\n",
       " 'get_params',\n",
       " 'intercept_',\n",
       " 'l1_ratio',\n",
       " 'max_iter',\n",
       " 'n_features_in_',\n",
       " 'n_iter_',\n",
       " 'normalize',\n",
       " 'path',\n",
       " 'positive',\n",
       " 'precompute',\n",
       " 'predict',\n",
       " 'random_state',\n",
       " 'score',\n",
       " 'selection',\n",
       " 'set_params',\n",
       " 'sparse_coef_',\n",
       " 'tol',\n",
       " 'warm_start']"
      ]
     },
     "execution_count": 9,
     "metadata": {},
     "output_type": "execute_result"
    }
   ],
   "source": [
    "dir(search.best_estimator_.named_steps['model'])"
   ]
  },
  {
   "cell_type": "code",
   "execution_count": 7,
   "metadata": {},
   "outputs": [],
   "source": [
    "#manggil coef setiap fitur\n",
    "coefficients = search.best_estimator_.named_steps['model'].coef_\n",
    "importance = np.abs(coefficients)"
   ]
  },
  {
   "cell_type": "markdown",
   "metadata": {},
   "source": [
    "##### Features yang diambil"
   ]
  },
  {
   "cell_type": "code",
   "execution_count": 8,
   "metadata": {},
   "outputs": [
    {
     "data": {
      "text/plain": [
       "array(['1001.8', '1139.7', '1141.2', '1142.2', '1142.7', '1143.2',\n",
       "       '1143.7', '1486.7', '1489.2', '1490.9', '1491.8', '1492.7',\n",
       "       '1493.5', '1494.4', '1495.2', '1497.8', '1498.7', '1499.6',\n",
       "       '1501.3', '1502.2', '1503.9', '1504.8', '1511.8', '1536.9',\n",
       "       '1543.3', '1547.9', '1548.8', '1552.5', '1553.5', '1555.3',\n",
       "       '1556.3', '1557.2', '1558.1', '1562.8', '1569.5', '1570.4',\n",
       "       '1573.3', '1574.2', '1582.9', '1583.8', '1903.6', '1905', '1914.9',\n",
       "       '2302.6', '2304.7', '2346.4', '2348.5', '2378.7', '2380.8',\n",
       "       '2387.4', '2389.6', '2394', '2396.2', '2418.6', '2476.3'],\n",
       "      dtype='<U6')"
      ]
     },
     "execution_count": 8,
     "metadata": {},
     "output_type": "execute_result"
    }
   ],
   "source": [
    "np.array(features)[importance > 0]"
   ]
  },
  {
   "cell_type": "markdown",
   "metadata": {},
   "source": [
    "##### Features yang ilang"
   ]
  },
  {
   "cell_type": "code",
   "execution_count": 9,
   "metadata": {},
   "outputs": [
    {
     "data": {
      "text/plain": [
       "array(['999.9', '1000.3', '1000.7', ..., '2495.4', '2497.8', '2500.2'],\n",
       "      dtype='<U6')"
      ]
     },
     "execution_count": 9,
     "metadata": {},
     "output_type": "execute_result"
    }
   ],
   "source": [
    "np.array(features)[importance == 0]"
   ]
  },
  {
   "cell_type": "markdown",
   "metadata": {},
   "source": [
    "#### Total Features yang diambil dan dibuang"
   ]
  },
  {
   "cell_type": "code",
   "execution_count": 10,
   "metadata": {},
   "outputs": [
    {
     "name": "stdout",
     "output_type": "stream",
     "text": [
      "Total fitur yang diambil = 55\n",
      "Total fitur yang dibuang = 1502\n"
     ]
    }
   ],
   "source": [
    "print(\"Total fitur yang diambil = \" + str(len(np.array(features)[importance > 0])))\n",
    "print(\"Total fitur yang dibuang = \" + str(len(np.array(features)[importance == 0])))"
   ]
  },
  {
   "cell_type": "code",
   "execution_count": 11,
   "metadata": {},
   "outputs": [],
   "source": [
    "cv = KFold(n_splits=10, random_state=1, shuffle=True)"
   ]
  },
  {
   "cell_type": "code",
   "execution_count": 15,
   "metadata": {
    "scrolled": true
   },
   "outputs": [
    {
     "name": "stdout",
     "output_type": "stream",
     "text": [
      "==================================================\n",
      "MSE model Linear Regression data Train dengan 55 fitur: 64.42\n",
      "RMSE model Linear Regression data Train dengan 55 fitur:8.02\n",
      "MAE model Linear Regression data Train dengan 55 fitur:6.37\n",
      "R2 model Linear Regression data Train dengan 55 fitur:0.66\n",
      "----------------------------\n",
      "MSE model Linear data Test dengan 55 fitur:225.82\n",
      "RMSE model Linear data Test dengan 55 fitur:15.03\n",
      "MAE model Linear data Test dengan 55 fitur:12.36\n",
      "R2 model Linear data Test dengan 55 fitur:0.31\n",
      "==================================================\n",
      "CPU times: user 7.38 s, sys: 191 ms, total: 7.58 s\n",
      "Wall time: 282 ms\n"
     ]
    }
   ],
   "source": [
    "%%time\n",
    "\n",
    "#tentukan metode scoring yang digunakan\n",
    "metrics = {'rmse': 'neg_root_mean_squared_error',\n",
    "               'mse': 'neg_mean_squared_error',\n",
    "               'mae': 'neg_mean_absolute_error',\n",
    "               'r2': 'r2'} \n",
    "\n",
    "n_feat = [55]\n",
    "\n",
    "for nfeat in n_feat:\n",
    "        print(\"==================================================\")\n",
    "        \n",
    "        #ambil n fitur input hasil seleksi fitur Lasso\n",
    "        x_train_selected = x_train[np.array(features)[importance > 0]]\n",
    "        x_test_selected = x_test[np.array(features)[importance > 0]]\n",
    "\n",
    "        #Create a Linear Regression\n",
    "        lr_model = LinearRegression()\n",
    "        \n",
    "        #Train the model using the training sets\n",
    "        lr_model.fit(x_train_selected, y_train)\n",
    "        y_pred_lr = lr_model.predict(x_test_selected)\n",
    "\n",
    "        #hitung score model dari data train\n",
    "        scores = cross_validate(lr_model, x_train_selected, y_train, scoring=metrics, cv=cv, return_train_score=True)\n",
    "\n",
    "        print(\"MSE model Linear Regression data Train dengan \" + str(nfeat) + \" fitur: \" \n",
    "              + str(abs(round(scores['train_mse'].mean(), 2))))\n",
    "        print(\"RMSE model Linear Regression data Train dengan \" + str(nfeat) + \" fitur:\"\n",
    "              + str(abs(round(scores['train_rmse'].mean(), 2))))\n",
    "        print(\"MAE model Linear Regression data Train dengan \" + str(nfeat) + \" fitur:\"\n",
    "              + str(abs(round(scores['train_mae'].mean(), 2))))\n",
    "        print(\"R2 model Linear Regression data Train dengan \" + str(nfeat) + \" fitur:\"\n",
    "              + str(abs((round(scores['train_r2'].mean(), 2)))))    \n",
    "        print(\"----------------------------\")\n",
    "        print(\"MSE model Linear data Test dengan \" + str(nfeat) + \" fitur:\" \n",
    "          + str(abs(round(mean_squared_error(y_test, y_pred_lr), 2))))\n",
    "        print(\"RMSE model Linear data Test dengan \" + str(nfeat) + \" fitur:\" \n",
    "          + str(abs(round(mean_squared_error(y_test, y_pred_lr, squared = False), 2))))\n",
    "        print(\"MAE model Linear data Test dengan \" + str(nfeat) + \" fitur:\" \n",
    "          + str(abs(round(mean_absolute_error(y_test, y_pred_lr), 2))))\n",
    "        print(\"R2 model Linear data Test dengan \" + str(nfeat) + \" fitur:\" \n",
    "          + str(abs(round(r2_score(y_test, y_pred_lr), 2))))\n",
    "        print(\"==================================================\")"
   ]
  },
  {
   "cell_type": "code",
   "execution_count": 16,
   "metadata": {
    "scrolled": true
   },
   "outputs": [
    {
     "name": "stdout",
     "output_type": "stream",
     "text": [
      "==================================================\n",
      "MSE model Linear Regression data Train dengan 55 fitur: 39.21\n",
      "RMSE model Linear Regression data Train dengan 55 fitur:6.26\n",
      "MAE model Linear Regression data Train dengan 55 fitur:4.74\n",
      "R2 model Linear Regression data Train dengan 55 fitur:0.8\n",
      "----------------------------\n",
      "MSE model Linear data Test dengan 55 fitur:178.64\n",
      "RMSE model Linear data Test dengan 55 fitur:13.37\n",
      "MAE model Linear data Test dengan 55 fitur:10.45\n",
      "R2 model Linear data Test dengan 55 fitur:0.04\n",
      "==================================================\n",
      "CPU times: user 3.76 s, sys: 115 ms, total: 3.87 s\n",
      "Wall time: 3.87 s\n"
     ]
    }
   ],
   "source": [
    "%%time\n",
    "\n",
    "#tentukan metode scoring yang digunakan\n",
    "metrics = {'rmse': 'neg_root_mean_squared_error',\n",
    "               'mse': 'neg_mean_squared_error',\n",
    "               'mae': 'neg_mean_absolute_error',\n",
    "               'r2': 'r2'} \n",
    "\n",
    "n_feat = [55]\n",
    "n_trees = [100]\n",
    "\n",
    "for nfeat in n_feat:\n",
    "    for ntrees in n_trees:\n",
    "        print(\"==================================================\")\n",
    "        \n",
    "        #ambil n fitur input hasil seleksi fitur Lasso\n",
    "        x_train_selected = x_train[np.array(features)[importance > 0]]\n",
    "        x_test_selected = x_test[np.array(features)[importance > 0]]\n",
    "\n",
    "        #Create a Random Forest Regression\n",
    "        rfg_model = RandomForestRegressor(n_estimators=ntrees, random_state=100)\n",
    "        \n",
    "        #Train the model using the training sets\n",
    "        rfg_model.fit(x_train_selected, y_train)\n",
    "        y_pred_rfg = rfg_model.predict(x_test_selected)\n",
    "\n",
    "        #hitung score model dari data train\n",
    "        scores = cross_validate(rfg_model, x_train_selected, y_train, scoring=metrics, cv=cv, return_train_score=True)\n",
    "\n",
    "        print(\"MSE model Random Forest Regression data Train dengan \" + str(nfeat) + \" fitur: \" \n",
    "              + str(abs(round(scores['train_mse'].mean(), 2))))\n",
    "        print(\"RMSE model Random Forest Regression data Train dengan \" + str(nfeat) + \" fitur:\"\n",
    "              + str(abs(round(scores['train_rmse'].mean(), 2))))\n",
    "        print(\"MAE model Random Forest Regression data Train dengan \" + str(nfeat) + \" fitur:\"\n",
    "              + str(abs(round(scores['train_mae'].mean(), 2))))\n",
    "        print(\"R2 model Random Forest Regression data Train dengan \" + str(nfeat) + \" fitur:\"\n",
    "              + str(abs((round(scores['train_r2'].mean(), 2)))))    \n",
    "        print(\"----------------------------\")\n",
    "        print(\"MSE model Random Forest Regression data Test dengan \" + str(nfeat) + \" fitur:\" \n",
    "          + str(abs(round(mean_squared_error(y_test, y_pred_rfg), 2))))\n",
    "        print(\"RMSE model Random Forest Regression data Test dengan \" + str(nfeat) + \" fitur:\" \n",
    "          + str(abs(round(mean_squared_error(y_test, y_pred_rfg, squared = False), 2))))\n",
    "        print(\"MAE model Random Forest Regression data Test dengan \" + str(nfeat) + \" fitur:\" \n",
    "          + str(abs(round(mean_absolute_error(y_test, y_pred_rfg), 2))))\n",
    "        print(\"R2 model Random Forest Regression data Test dengan \" + str(nfeat) + \" fitur:\" \n",
    "          + str(abs(round(r2_score(y_test, y_pred_rfg), 2))))\n",
    "        print(\"==================================================\")"
   ]
  },
  {
   "cell_type": "markdown",
   "metadata": {},
   "source": [
    "# RFG n = 150"
   ]
  },
  {
   "cell_type": "code",
   "execution_count": 17,
   "metadata": {
    "scrolled": true
   },
   "outputs": [
    {
     "name": "stdout",
     "output_type": "stream",
     "text": [
      "==================================================\n",
      "MSE model Linear Regression data Train dengan 55 fitur: 38.9\n",
      "RMSE model Linear Regression data Train dengan 55 fitur:6.23\n",
      "MAE model Linear Regression data Train dengan 55 fitur:4.73\n",
      "R2 model Linear Regression data Train dengan 55 fitur:0.8\n",
      "----------------------------\n",
      "MSE model Linear data Test dengan 55 fitur:179.65\n",
      "RMSE model Linear data Test dengan 55 fitur:13.4\n",
      "MAE model Linear data Test dengan 55 fitur:10.51\n",
      "R2 model Linear data Test dengan 55 fitur:0.04\n",
      "==================================================\n",
      "CPU times: user 5.64 s, sys: 99 ms, total: 5.74 s\n",
      "Wall time: 5.74 s\n"
     ]
    }
   ],
   "source": [
    "%%time\n",
    "\n",
    "#tentukan metode scoring yang digunakan\n",
    "metrics = {'rmse': 'neg_root_mean_squared_error',\n",
    "               'mse': 'neg_mean_squared_error',\n",
    "               'mae': 'neg_mean_absolute_error',\n",
    "               'r2': 'r2'} \n",
    "\n",
    "n_feat = [55]\n",
    "n_trees = [150]\n",
    "\n",
    "for nfeat in n_feat:\n",
    "    for ntrees in n_trees:\n",
    "        print(\"==================================================\")\n",
    "        \n",
    "        #ambil n fitur input hasil seleksi fitur Lasso\n",
    "        x_train_selected = x_train[np.array(features)[importance > 0]]\n",
    "        x_test_selected = x_test[np.array(features)[importance > 0]]\n",
    "\n",
    "        #Create a Random Forest Regression\n",
    "        rfg_model = RandomForestRegressor(n_estimators=ntrees, random_state=100)\n",
    "        \n",
    "        #Train the model using the training sets\n",
    "        rfg_model.fit(x_train_selected, y_train)\n",
    "        y_pred_rfg = rfg_model.predict(x_test_selected)\n",
    "\n",
    "        #hitung score model dari data train\n",
    "        scores = cross_validate(rfg_model, x_train_selected, y_train, scoring=metrics, cv=cv, return_train_score=True)\n",
    "\n",
    "        print(\"MSE model Random Forest Regression data Train dengan \" + str(nfeat) + \" fitur: \" \n",
    "              + str(abs(round(scores['train_mse'].mean(), 2))))\n",
    "        print(\"RMSE model Random Forest Regression data Train dengan \" + str(nfeat) + \" fitur:\"\n",
    "              + str(abs(round(scores['train_rmse'].mean(), 2))))\n",
    "        print(\"MAE model Random Forest Regression data Train dengan \" + str(nfeat) + \" fitur:\"\n",
    "              + str(abs(round(scores['train_mae'].mean(), 2))))\n",
    "        print(\"R2 model Random Forest Regression data Train dengan \" + str(nfeat) + \" fitur:\"\n",
    "              + str(abs((round(scores['train_r2'].mean(), 2)))))    \n",
    "        print(\"----------------------------\")\n",
    "        print(\"MSE model Random Forest Regression data Test dengan \" + str(nfeat) + \" fitur:\" \n",
    "          + str(abs(round(mean_squared_error(y_test, y_pred_rfg), 2))))\n",
    "        print(\"RMSE model Random Forest Regression data Test dengan \" + str(nfeat) + \" fitur:\" \n",
    "          + str(abs(round(mean_squared_error(y_test, y_pred_rfg, squared = False), 2))))\n",
    "        print(\"MAE model Random Forest Regression data Test dengan \" + str(nfeat) + \" fitur:\" \n",
    "          + str(abs(round(mean_absolute_error(y_test, y_pred_rfg), 2))))\n",
    "        print(\"R2 model Random Forest Regression data Test dengan \" + str(nfeat) + \" fitur:\" \n",
    "          + str(abs(round(r2_score(y_test, y_pred_rfg), 2))))\n",
    "        print(\"==================================================\")"
   ]
  },
  {
   "cell_type": "code",
   "execution_count": 18,
   "metadata": {},
   "outputs": [
    {
     "name": "stdout",
     "output_type": "stream",
     "text": [
      "==================================================\n",
      "MSE model Linear Regression data Train dengan 55 fitur: 38.77\n",
      "RMSE model Linear Regression data Train dengan 55 fitur:6.22\n",
      "MAE model Linear Regression data Train dengan 55 fitur:4.73\n",
      "R2 model Linear Regression data Train dengan 55 fitur:0.8\n",
      "----------------------------\n",
      "MSE model Linear data Test dengan 55 fitur:179.66\n",
      "RMSE model Linear data Test dengan 55 fitur:13.4\n",
      "MAE model Linear data Test dengan 55 fitur:10.62\n",
      "R2 model Linear data Test dengan 55 fitur:0.04\n",
      "==================================================\n",
      "CPU times: user 7.41 s, sys: 130 ms, total: 7.54 s\n",
      "Wall time: 7.54 s\n"
     ]
    }
   ],
   "source": [
    "%%time\n",
    "\n",
    "#tentukan metode scoring yang digunakan\n",
    "metrics = {'rmse': 'neg_root_mean_squared_error',\n",
    "               'mse': 'neg_mean_squared_error',\n",
    "               'mae': 'neg_mean_absolute_error',\n",
    "               'r2': 'r2'} \n",
    "\n",
    "n_feat = [55]\n",
    "n_trees = [200]\n",
    "\n",
    "for nfeat in n_feat:\n",
    "    for ntrees in n_trees:\n",
    "        print(\"==================================================\")\n",
    "        \n",
    "        #ambil n fitur input hasil seleksi fitur Lasso\n",
    "        x_train_selected = x_train[np.array(features)[importance > 0]]\n",
    "        x_test_selected = x_test[np.array(features)[importance > 0]]\n",
    "\n",
    "        #Create a Random Forest Regression\n",
    "        rfg_model = RandomForestRegressor(n_estimators=ntrees, random_state=100)\n",
    "        \n",
    "        #Train the model using the training sets\n",
    "        rfg_model.fit(x_train_selected, y_train)\n",
    "        y_pred_rfg = rfg_model.predict(x_test_selected)\n",
    "\n",
    "        #hitung score model dari data train\n",
    "        scores = cross_validate(rfg_model, x_train_selected, y_train, scoring=metrics, cv=cv, return_train_score=True)\n",
    "\n",
    "        print(\"MSE model Random Forest Regression data Train dengan \" + str(nfeat) + \" fitur: \" \n",
    "              + str(abs(round(scores['train_mse'].mean(), 2))))\n",
    "        print(\"RMSE model Random Forest Regression data Train dengan \" + str(nfeat) + \" fitur:\"\n",
    "              + str(abs(round(scores['train_rmse'].mean(), 2))))\n",
    "        print(\"MAE model Random Forest Regression data Train dengan \" + str(nfeat) + \" fitur:\"\n",
    "              + str(abs(round(scores['train_mae'].mean(), 2))))\n",
    "        print(\"R2 model Random Forest Regression data Train dengan \" + str(nfeat) + \" fitur:\"\n",
    "              + str(abs((round(scores['train_r2'].mean(), 2)))))    \n",
    "        print(\"----------------------------\")\n",
    "        print(\"MSE model Random Forest Regression data Test dengan \" + str(nfeat) + \" fitur:\" \n",
    "          + str(abs(round(mean_squared_error(y_test, y_pred_rfg), 2))))\n",
    "        print(\"RMSE model Random Forest Regression data Test dengan \" + str(nfeat) + \" fitur:\" \n",
    "          + str(abs(round(mean_squared_error(y_test, y_pred_rfg, squared = False), 2))))\n",
    "        print(\"MAE model Random Forest Regression data Test dengan \" + str(nfeat) + \" fitur:\" \n",
    "          + str(abs(round(mean_absolute_error(y_test, y_pred_rfg), 2))))\n",
    "        print(\"R2 model Random Forest Regression data Test dengan \" + str(nfeat) + \" fitur:\" \n",
    "          + str(abs(round(r2_score(y_test, y_pred_rfg), 2))))\n",
    "        print(\"==================================================\")"
   ]
  }
 ],
 "metadata": {
  "kernelspec": {
   "display_name": "Python 3",
   "language": "python",
   "name": "python3"
  },
  "language_info": {
   "codemirror_mode": {
    "name": "ipython",
    "version": 3
   },
   "file_extension": ".py",
   "mimetype": "text/x-python",
   "name": "python",
   "nbconvert_exporter": "python",
   "pygments_lexer": "ipython3",
   "version": "3.7.3"
  }
 },
 "nbformat": 4,
 "nbformat_minor": 4
}
